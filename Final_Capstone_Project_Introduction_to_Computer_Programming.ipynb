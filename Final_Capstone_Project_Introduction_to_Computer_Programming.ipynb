{
  "nbformat": 4,
  "nbformat_minor": 0,
  "metadata": {
    "colab": {
      "provenance": [],
      "include_colab_link": true
    },
    "kernelspec": {
      "name": "python3",
      "display_name": "Python 3"
    },
    "language_info": {
      "name": "python"
    }
  },
  "cells": [
    {
      "cell_type": "markdown",
      "metadata": {
        "id": "view-in-github",
        "colab_type": "text"
      },
      "source": [
        "<a href=\"https://colab.research.google.com/github/AbhishekThakur0126/Capstown-Project-Introduction-to-Computer-Programming/blob/main/Final_Capstone_Project_Introduction_to_Computer_Programming.ipynb\" target=\"_parent\"><img src=\"https://colab.research.google.com/assets/colab-badge.svg\" alt=\"Open In Colab\"/></a>"
      ]
    },
    {
      "cell_type": "markdown",
      "source": [
        "# **Guidelines**\n"
      ],
      "metadata": {
        "id": "HlOAX_1v1ko1"
      }
    },
    {
      "cell_type": "markdown",
      "source": [
        "\n",
        "**1. About the Project:**\n",
        "\n",
        "The Introduction to Computer Programming project is designed to evaluate your understanding and practical application of fundamental programming concepts using Python. This assessment encompasses various topics, including data types, indexing, slicing, operators, in-built functions, statements, conditionals, loops, object-oriented programming, and exception handling. In addition, you will showcase your ability to create custom functions and tackle advanced looping concepts.\n",
        "\n",
        "**2. Skills Required:**\n",
        "\n",
        "  To successfully complete this project assessment, you should possess the following skills and knowledge:\n",
        "- Proficiency in Python programming language\n",
        "- Understanding of data types, indexing, and slicing in Python\n",
        "- Familiarity with operators, in-built functions, and methods\n",
        "- Ability to work with statements, indentation, and conditionals\n",
        "- Competence in implementing loops and iterations, including conditional and infinite looping\n",
        "- Mastery of creating and utilizing custom functions in Python\n",
        "- Knowledge of advanced looping concepts\n",
        "- Understanding of object-oriented programming (OOPs) principles in Python\n",
        "- Ability to handle exceptions in your code\n",
        "\n",
        "**3. Deliverables:**\n",
        "\n",
        "You are required to submit the following items for evaluation:\n",
        "- Completed Python coding solutions for the given questions (coding assessment)\n",
        "- Collab link containing your Python code for each question\n",
        "- Video explanation for any five coding questions (demonstrating your understanding and approach)\n",
        "\n",
        "**4. Rubrics:**\n",
        "\n",
        "Your project assessment will be evaluated based on the following rubrics:\n",
        "\n",
        "**a. Coding Assessment:**\n",
        "\n",
        "- Correctness of the code solution\n",
        "- Efficient use of coding constructs\n",
        "- Clear and well-structured code organization\n",
        "\n",
        "**b. Collab Link:**\n",
        "\n",
        "- Submission of Python code through the provided Collab link\n",
        "- Proper organization of code files and resources\n",
        "\n",
        "**c. Video Explanation:**\n",
        "\n",
        "- Clear articulation of solution approach\n",
        "- Coverage of important concepts and logic\n",
        "- Coherent and well-structured explanation\n",
        "\n",
        "Please use these pointers as the basis for evaluating each section of the project assessment."
      ],
      "metadata": {
        "id": "rATVcbDa2pY_"
      }
    },
    {
      "cell_type": "markdown",
      "source": [
        "# **CodeStorm Challenge: Solving and Explaining Complex Coding Problems**\n",
        "\n"
      ],
      "metadata": {
        "id": "KLPQdGNGvXFL"
      }
    },
    {
      "cell_type": "markdown",
      "source": [
        "**Problem Statement:**\n",
        "\n",
        "The CodeStorm Challenge is an intense coding competition designed to test participants' programming skills, problem-solving abilities, and communication prowess. In this challenge, participants will be required to solve a total of 30 intricate coding questions that cover a wide range of algorithms, data structures, and programming paradigms. Additionally, participants are tasked with creating an explanatory video that delves into the solutions of any five chosen questions.\n",
        "\n",
        "The challenge aims to evaluate participants on their coding efficiency, algorithmic thinking, and presentation skills. Participants will need to not only implement correct and optimized solutions to the coding problems but also effectively communicate their thought processes and strategies in the form of a video presentation.\n",
        "\n",
        "**Key Objectives:**\n",
        "\n",
        "* Coding Proficiency: Participants must demonstrate their ability to write clean, efficient, and bug-free code to solve complex programming challenges within a time-constrained environment.\n",
        "\n",
        "* Problem Solving: The challenge will encompass a variety of problem domains, including dynamic programming, graph algorithms, string manipulation, and more. Participants should showcase their prowess in breaking down problems, designing algorithms, and translating solutions into code.\n",
        "\n",
        "* Communication Skills: In addition to coding skills, participants need to exhibit strong communication skills by creating a comprehensive video explaining the thought process, approach, and solution to five selected problems. Clarity, conciseness, and coherence in the video are essential.\n",
        "\n",
        "* Time Management: Participants will need to efficiently manage their time throughout the challenge, allocating sufficient time to solve each question and ensuring they have ample time to create high-quality explanatory videos.\n",
        "\n",
        "* Adaptability: As the challenge encompasses a diverse set of coding problems, participants must be adaptable in applying different algorithms and techniques to solve problems that may vary in difficulty and complexity.\n",
        "\n",
        "**Note:**\n",
        "\n",
        "1. Solve 30 coding problems out of the different problem statements given here.\n",
        "2. Create a video explaining any 5 questions and include the video link before submitting."
      ],
      "metadata": {
        "id": "OBDIMXqy26TD"
      }
    },
    {
      "cell_type": "markdown",
      "source": [
        "# **Introduction to Python Programming**"
      ],
      "metadata": {
        "id": "XIj_QdatBQTt"
      }
    },
    {
      "cell_type": "markdown",
      "source": [
        "## Score Board Operator\n",
        "An operator working behind the scoreboard of a inter cohort AlmaBetter cricket tournament, is responsible for updating the scores and points of each team. However, the operator is currently facing a challenge. He has been tasked with updating the total number of points gained by Team London, but he does not possess the necessary programming skills to complete this task.\n",
        "According to the tournament's rules, teams are awarded the following points based on the outcome of a match:\n",
        "\n",
        "* wins: 3 points\n",
        "* draws: 1 point\n",
        "* losses: 0 points\n",
        "\n",
        "\n",
        "\n",
        "\n",
        "Team London has played **8 matches** in this tournament. They won **4 matches**, lost **3 matches** and **drew 1**.\n",
        "The operator is in need of assistance to calculate the total number of points earned by Team London. As a python expert adept with knowledge of integer, floats and boolean, you can help the operator by writing a solution for the following problem.\n",
        "\n",
        "What would your approach be?"
      ],
      "metadata": {
        "id": "dCSH8MhBRTW7"
      }
    },
    {
      "cell_type": "code",
      "source": [
        "#1. Define your fixed values:\n",
        "wins = 3\n",
        "draws = 1\n",
        "losses = 0"
      ],
      "metadata": {
        "id": "v8z41_rUgsJE"
      },
      "execution_count": 1,
      "outputs": []
    },
    {
      "cell_type": "code",
      "source": [
        "#2. Calculate the total points gained by Team London\n",
        "london_points = (wins * 4 + losses * 0 + draws * 1)"
      ],
      "metadata": {
        "id": "-kG6LhhJgsJl"
      },
      "execution_count": 2,
      "outputs": []
    },
    {
      "cell_type": "code",
      "source": [
        "# 3. Print the variable london_points\n",
        "print(london_points)"
      ],
      "metadata": {
        "id": "J8i6jnwngsJm",
        "colab": {
          "base_uri": "https://localhost:8080/"
        },
        "outputId": "639f9f04-12f3-45cb-8724-b6743345cb31"
      },
      "execution_count": 3,
      "outputs": [
        {
          "output_type": "stream",
          "name": "stdout",
          "text": [
            "13\n"
          ]
        }
      ]
    },
    {
      "cell_type": "markdown",
      "source": [
        "## Nutrition bar ingredient chart\n",
        "\n",
        "Imagine you are a data analyst at a nutrition bar manufacturing company. Your department head approaches you with a question. The company produces a nutrition bar that contains **45g of raisins, 65g of almonds, and 30g of apricots**. The head of the manufacturing department wants you to create an ingredient percentage list for the nutrition bar using python.\n",
        "\n",
        "Equipped with the knowledge of int, float and booleans in python, how would you approach this situation?"
      ],
      "metadata": {
        "id": "qEICqapxUkVB"
      }
    },
    {
      "cell_type": "code",
      "metadata": {
        "id": "XJ9Rq4P3Del7",
        "colab": {
          "base_uri": "https://localhost:8080/"
        },
        "outputId": "ec2bb516-fe84-4ad9-df11-6713cb37141b"
      },
      "source": [
        "# Calculate the percentage of raisins and print the variable\n",
        "raisins= 45\n",
        "almonds= 65\n",
        "apricots=30\n",
        "total = raisins + almonds + apricots\n",
        "\n",
        "raisins_perc = (raisins/total)*100\n",
        "print(raisins_perc)\n"
      ],
      "execution_count": 4,
      "outputs": [
        {
          "output_type": "stream",
          "name": "stdout",
          "text": [
            "32.142857142857146\n"
          ]
        }
      ]
    },
    {
      "cell_type": "code",
      "metadata": {
        "id": "S6lJZtaXDel9",
        "colab": {
          "base_uri": "https://localhost:8080/"
        },
        "outputId": "a1e4cb6a-37f3-4324-e458-0b787f810f5e"
      },
      "source": [
        "# Calculate the percentage of almonds and print the variable\n",
        "almonds_perc = (almonds/total)*100\n",
        "print(almonds_perc)\n"
      ],
      "execution_count": 5,
      "outputs": [
        {
          "output_type": "stream",
          "name": "stdout",
          "text": [
            "46.42857142857143\n"
          ]
        }
      ]
    },
    {
      "cell_type": "code",
      "metadata": {
        "id": "mHzMnSZrDemB",
        "colab": {
          "base_uri": "https://localhost:8080/"
        },
        "outputId": "980304c9-7d5e-4844-ed21-f43a52344077"
      },
      "source": [
        "# Calculate the percentage of apricots and print the variable\n",
        "apricots_perc = (apricots/total)*100\n",
        "print(apricots_perc)"
      ],
      "execution_count": 6,
      "outputs": [
        {
          "output_type": "stream",
          "name": "stdout",
          "text": [
            "21.428571428571427\n"
          ]
        }
      ]
    },
    {
      "cell_type": "markdown",
      "source": [
        "## Measuring the Accuracy of a Disease Detection Model- Optional\n",
        "\n",
        "If you're not impressed with these usecases yet, understand that you're just getting started with python. Going forward as a data scientist, you'll be using what you've learned to design machine learning models that just might even save lives!!\n",
        "\n",
        "Let's say you have created a machine learning model to detect diseases in patients based on their symptoms and medical history. The model has been tested on a dataset of **100 patients**, including **30 with diabetes**, **45 with heart disease**, and **25 with cancer**.\n",
        "The model's performance was evaluated in three rounds.\n",
        "In the first round, the model correctly **detected diabetes in 25 out of the 30 patients** with the disease.\n",
        "In the second round, the model correctly detected **heart disease in 35 out of the 45 patients** with the disease.\n",
        "In the final round, the model correctly **detected cancer in 20 out of the 25 patients** with the disease.\n",
        "\n",
        "The model's accuracy is defined as the percentage of correctly detected cases out of the total number of patient\n",
        "\n",
        "Assess how accurate your model is across these 3 diseases.\n"
      ],
      "metadata": {
        "id": "9Y3kSoUHVOGj"
      }
    },
    {
      "cell_type": "code",
      "metadata": {
        "id": "OfXY9LcVDemF"
      },
      "source": [
        "# Store the number of heart disease patients\n",
        "heart_patients = 45\n",
        "\n",
        "# Store the number of diabetes patients\n",
        "diabetes_patients = 30\n",
        "\n",
        "# Store the number of cancer patients\n",
        "cancer_patients = 25\n",
        "\n",
        "# Store the number of your correct guesses of heart disease patients\n",
        "correct_heart_patients = 35\n",
        "\n",
        "# Store the number of your correct guesses of diabetes patients\n",
        "correct_diabetes_patients = 25\n",
        "\n",
        "# Store the number of your correct guesses of cancer patients\n",
        "correct_cancer_patients = 20"
      ],
      "execution_count": 7,
      "outputs": []
    },
    {
      "cell_type": "markdown",
      "metadata": {
        "id": "Eg_Or6GmDemI"
      },
      "source": [
        "#### Calculate your accuracy in each of the three cases"
      ]
    },
    {
      "cell_type": "code",
      "metadata": {
        "id": "QUbDKOR3DemJ",
        "colab": {
          "base_uri": "https://localhost:8080/"
        },
        "outputId": "7dc818a2-7d88-4dcc-d4e2-3913494ecac7"
      },
      "source": [
        "# Print the heart disease detection accuracy\n",
        "heart_accuracy = (correct_heart_patients/heart_patients)*100\n",
        "print(heart_accuracy)"
      ],
      "execution_count": 8,
      "outputs": [
        {
          "output_type": "stream",
          "name": "stdout",
          "text": [
            "77.77777777777779\n"
          ]
        }
      ]
    },
    {
      "cell_type": "code",
      "metadata": {
        "id": "PfX4DowhDemM",
        "colab": {
          "base_uri": "https://localhost:8080/"
        },
        "outputId": "48153205-cedd-45f0-a563-dc766c65e538"
      },
      "source": [
        "# Print the diabetes detection accuracy\n",
        "diabetes_accuracy = (correct_diabetes_patients/diabetes_patients)*100\n",
        "print(diabetes_accuracy)"
      ],
      "execution_count": 9,
      "outputs": [
        {
          "output_type": "stream",
          "name": "stdout",
          "text": [
            "83.33333333333334\n"
          ]
        }
      ]
    },
    {
      "cell_type": "code",
      "metadata": {
        "id": "ZV-hzGKCDemP",
        "colab": {
          "base_uri": "https://localhost:8080/"
        },
        "outputId": "cc8fa184-a2f2-4330-dcaf-2f7852c43c2c"
      },
      "source": [
        "# Print the cancer detection accuracy\n",
        "cancer_accuracy = (correct_cancer_patients/cancer_patients)*100\n",
        "print(cancer_accuracy)"
      ],
      "execution_count": 10,
      "outputs": [
        {
          "output_type": "stream",
          "name": "stdout",
          "text": [
            "80.0\n"
          ]
        }
      ]
    },
    {
      "cell_type": "code",
      "metadata": {
        "id": "eP3JkusLDemT",
        "colab": {
          "base_uri": "https://localhost:8080/"
        },
        "outputId": "a65662f1-e7b7-4223-ef4e-577677c37e7f"
      },
      "source": [
        "# Print the overall accuracy of your model\n",
        "total_patients = heart_patients + diabetes_patients + cancer_patients\n",
        "total_correct_patients = correct_heart_patients + correct_diabetes_patients + correct_cancer_patients\n",
        "\n",
        "overall_accuracy = (total_correct_patients/total_patients)*100\n",
        "print(overall_accuracy)\n"
      ],
      "execution_count": 11,
      "outputs": [
        {
          "output_type": "stream",
          "name": "stdout",
          "text": [
            "80.0\n"
          ]
        }
      ]
    },
    {
      "cell_type": "markdown",
      "source": [
        "# **Data Types in Python**"
      ],
      "metadata": {
        "id": "AzbS5w7QB28m"
      }
    },
    {
      "cell_type": "markdown",
      "source": [
        "## Solving Algebra the Cool Way 😎"
      ],
      "metadata": {
        "id": "yKTqVryFxgP1"
      }
    },
    {
      "cell_type": "markdown",
      "source": [
        "You must remember the algebraic equations and functions you came across during your school days. If you do, you also must remember how tedious it was to do solve them manually. 😫\n",
        "Consider a quadratic function:\n",
        "\n",
        "***f(x)=x^2+3x-4***\n",
        "\n",
        "Find the value of f(x) at x =3 , x=-2, and x=4\n",
        "\n",
        "Doing this manually like the old days would be a tedious job 😞. But now you have python at your disposal 🙂 !\n",
        "How would you approach this problem using what you have learned?\n"
      ],
      "metadata": {
        "id": "_qhDAZQsSvPv"
      }
    },
    {
      "cell_type": "code",
      "metadata": {
        "id": "4_HZwes5Delh",
        "colab": {
          "base_uri": "https://localhost:8080/"
        },
        "outputId": "e0ea6f95-4b18-41d1-c0b9-fff58a45843a"
      },
      "source": [
        "# Calculate the value of the function f(x) at x = 3\n",
        "x = 3\n",
        "func_evaluated_at_3 = x**2 + 3*x -4\n",
        "print(func_evaluated_at_3)"
      ],
      "execution_count": 12,
      "outputs": [
        {
          "output_type": "stream",
          "name": "stdout",
          "text": [
            "14\n"
          ]
        }
      ]
    },
    {
      "cell_type": "code",
      "metadata": {
        "id": "uD4MAyKIDelo",
        "colab": {
          "base_uri": "https://localhost:8080/"
        },
        "outputId": "0679ae12-2e59-40c4-a3eb-9ae86930027b"
      },
      "source": [
        "# Calculate the value of the function f(x) at x = -2\n",
        "x = -2\n",
        "func_evaluated_at_minus2 =  x**2 + 3*x -4\n",
        "print(func_evaluated_at_minus2)"
      ],
      "execution_count": 13,
      "outputs": [
        {
          "output_type": "stream",
          "name": "stdout",
          "text": [
            "-6\n"
          ]
        }
      ]
    },
    {
      "cell_type": "code",
      "metadata": {
        "id": "h8PgF85VDelu",
        "colab": {
          "base_uri": "https://localhost:8080/"
        },
        "outputId": "6a789efd-7971-4059-fc46-d168e91a9e35"
      },
      "source": [
        "# Calculate the value of the function f(x) at x = 4\n",
        "x= 4\n",
        "func_evaluated_at_4 = x**2 + 3*x -4\n",
        "print(func_evaluated_at_4)"
      ],
      "execution_count": 14,
      "outputs": [
        {
          "output_type": "stream",
          "name": "stdout",
          "text": [
            "24\n"
          ]
        }
      ]
    },
    {
      "cell_type": "code",
      "source": [
        "#Check if func_evaluated_at_3 >= func_evaluated_at_minus2\n",
        "func_evaluated_at_3 >= func_evaluated_at_minus2"
      ],
      "metadata": {
        "id": "ESCji5FY9x61",
        "colab": {
          "base_uri": "https://localhost:8080/"
        },
        "outputId": "43def001-34e2-4a1d-c22e-966892f11758"
      },
      "execution_count": 15,
      "outputs": [
        {
          "output_type": "execute_result",
          "data": {
            "text/plain": [
              "True"
            ]
          },
          "metadata": {},
          "execution_count": 15
        }
      ]
    },
    {
      "cell_type": "code",
      "source": [
        "#Check if value of f(x) at 3,-2 or 4 is equal to 0 or not\n",
        "func_evaluated_at_3 == 0\n",
        "func_evaluated_at_minus2 == 0\n",
        "func_evaluated_at_4 == 0"
      ],
      "metadata": {
        "id": "bZuIzWse94rT",
        "colab": {
          "base_uri": "https://localhost:8080/"
        },
        "outputId": "d34d0d1f-d891-4e1e-cdf6-1fe9ec449601"
      },
      "execution_count": 16,
      "outputs": [
        {
          "output_type": "execute_result",
          "data": {
            "text/plain": [
              "False"
            ]
          },
          "metadata": {},
          "execution_count": 16
        }
      ]
    },
    {
      "cell_type": "markdown",
      "source": [
        "## Finding total A's in the Bookshelves\n",
        "\n",
        "In your pursuit of expanding your knowledge of Python, you come across a bookstore in search of books on the subject.\n",
        "\n",
        "There, you meet a salesperson who is also a Python enthusiast!!\n",
        "\n",
        "The salesperson presents you with a challenge - they have a list of five books related to Python and if you can write a program that finds the count of letter 'e', the store will give you a free book of your choice. 😀\n",
        "\n",
        "Are you ready to accept the challenge? 💪"
      ],
      "metadata": {
        "id": "kyKx-MLZHsoh"
      }
    },
    {
      "cell_type": "markdown",
      "source": [
        "![image.png](data:image/png;base64,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)"
      ],
      "metadata": {
        "id": "NvHzGRT12YGg"
      }
    },
    {
      "cell_type": "code",
      "source": [
        "# Here's the list of books\n",
        "books = \"Python for Everyone, Learn Python the Hard Way, Python Crash Course , Starting Out with Python, Automate the Boring Stuff with Python\"\n"
      ],
      "metadata": {
        "id": "iImDmkOZXRRP"
      },
      "execution_count": 17,
      "outputs": []
    },
    {
      "cell_type": "code",
      "source": [
        "# Store the count of books containing A/a in the title. Note this will be a case insensitive search\n",
        "a_counts = books.count('a')\n",
        "\n",
        "A_counts= books.count('A')\n",
        "\n",
        "total_a_counts= a_counts + a_counts"
      ],
      "metadata": {
        "id": "-3HeaI3YXWQ1"
      },
      "execution_count": 18,
      "outputs": []
    },
    {
      "cell_type": "code",
      "source": [
        "# Print the value\n",
        "print(f\"The total number of 'a's in the list of books is {total_a_counts}\")"
      ],
      "metadata": {
        "id": "KXUYgyjBXaCH",
        "colab": {
          "base_uri": "https://localhost:8080/"
        },
        "outputId": "bfa19c8f-2935-46a0-c243-da76a0318ac9"
      },
      "execution_count": 19,
      "outputs": [
        {
          "output_type": "stream",
          "name": "stdout",
          "text": [
            "The total number of 'a's in the list of books is 12\n"
          ]
        }
      ]
    },
    {
      "cell_type": "markdown",
      "source": [
        "## Unleashing the Power of Mean in Exam Analysis"
      ],
      "metadata": {
        "id": "BUzHV9sfvemq"
      }
    },
    {
      "cell_type": "markdown",
      "source": [
        "When analyzing exam scores, teachers have the power to unlock valuable insights into their students' performance. By using the mean and median, they can get a clear picture of how the class is doing as a whole and identify areas where improvement is needed.\n",
        "\n",
        "The mean score is like a report card for the entire class, showing the average of all exam scores. It gives a good general idea of how the class is doing but can be influenced by a few students with extremely high or low scores.\n",
        "\n",
        "By analysing the mean, teachers can get a complete picture of the class performance and make informed decisions to improve the learning experience for their students. So go ahead and use these powerful tools to take your students' exam scores to the next level! 💪"
      ],
      "metadata": {
        "id": "JQOrvXKEwJgy"
      }
    },
    {
      "cell_type": "code",
      "source": [
        "# List of student marks\n",
        "\n",
        "marks = [67,87,75,46,89,97,68,98,87,88]"
      ],
      "metadata": {
        "id": "qTEXZHBxwVP1"
      },
      "execution_count": 20,
      "outputs": []
    },
    {
      "cell_type": "code",
      "source": [
        "# Calculate the mean of the marks. Use sum() and len() functions\n",
        "mean_marks = sum(marks)/len(marks)"
      ],
      "metadata": {
        "id": "9BpBKVXFw4Mg"
      },
      "execution_count": 21,
      "outputs": []
    },
    {
      "cell_type": "code",
      "source": [
        "print(mean_marks)"
      ],
      "metadata": {
        "id": "XQ1cL8mCpfeS",
        "colab": {
          "base_uri": "https://localhost:8080/"
        },
        "outputId": "50c34fca-a07f-460a-a0c4-3e25304c499d"
      },
      "execution_count": 22,
      "outputs": [
        {
          "output_type": "stream",
          "name": "stdout",
          "text": [
            "80.2\n"
          ]
        }
      ]
    },
    {
      "cell_type": "markdown",
      "source": [
        "\n",
        "## John's Fruit Stand Sales Mix-up\n",
        "\n",
        "You must remember from the previous lessons that dictionaries can be used to store values corresponding to a particular key. But how is this helpful to us?\n",
        "\n",
        "Let's look at this scenario:\n",
        "\n",
        "Jim owns a quaint little fruit stand that sells mangoes, bananas, apples, and pineapples. One day, with Jim being tied up, he tasked his son John to manage the shop for a day. Being new to the game, John recorded the sales data in an unconventional way. He wrote down the name of each fruit as many times as it was sold, creating a list like this:\n",
        "\n",
        "**['Mango','Mango','Mango','Pineapple','Pineapple','Pineapple','Apple','Mango','Banana','Apple','Banana','Apple','Pineapple','Apple','Apple','Pineapple','Pineapple']**\n",
        "🤦\n",
        "\n",
        "But, this method is not very efficient or easy to read.\n",
        "\n",
        "Forunately you were there at the shop to grab some apples yourselves, and you saw what John was doing.\n",
        "\n",
        "You can help him out to structure the data by using dictionaries. How?\n",
        "\n"
      ],
      "metadata": {
        "id": "iOZMEc3KtdsM"
      }
    },
    {
      "cell_type": "code",
      "execution_count": 23,
      "metadata": {
        "id": "lqRlffflqcUg"
      },
      "outputs": [],
      "source": [
        "#Here's John's list:\n",
        "fruit_list=['Mango','Mango','Mango','Pineapple','Pineapple','Pineapple','Apple','Mango','Banana','Apple','Banana','Apple','Pineapple','Apple','Apple','Pineapple','Pineapple']"
      ]
    },
    {
      "cell_type": "code",
      "source": [
        "# Step 2: Create an empty dictionary which will contain the unique fruit names\n",
        "fruit_dict={}\n",
        "\n",
        "# Set the values for each key separately\n",
        "\n",
        "# First Key\n",
        "fruit_dict['Mango']= fruit_list.count('Mango')\n",
        "\n",
        "# Second Key\n",
        "fruit_dict['Pineapple']= fruit_list.count('Pineapple')\n",
        "\n",
        "# Third Key\n",
        "fruit_dict['Apple']= fruit_list.count('Apple')\n",
        "\n",
        "# Fourth Key\n",
        "fruit_dict['Banana']= fruit_list.count('Banana')"
      ],
      "metadata": {
        "id": "zP1dXujAD_GA"
      },
      "execution_count": 24,
      "outputs": []
    },
    {
      "cell_type": "code",
      "source": [
        "print(fruit_dict)"
      ],
      "metadata": {
        "id": "oy02z7prygYo",
        "colab": {
          "base_uri": "https://localhost:8080/"
        },
        "outputId": "afae8445-ba12-4146-e864-59fb9b80b705"
      },
      "execution_count": 25,
      "outputs": [
        {
          "output_type": "stream",
          "name": "stdout",
          "text": [
            "{'Mango': 4, 'Pineapple': 6, 'Apple': 5, 'Banana': 2}\n"
          ]
        }
      ]
    },
    {
      "cell_type": "markdown",
      "source": [
        "# **Indexing & Slicing**"
      ],
      "metadata": {
        "id": "hw_eQmfUo8Ma"
      }
    },
    {
      "cell_type": "markdown",
      "source": [
        "## Imagine that you are a superhero movie buff and you're trying to create a list of the most iconic Marvel characters. You have compiled a list of some of the most popular characters, but you want to narrow it down to the top 6.\n",
        "\n",
        "Here's your list of characters:\n",
        "\n",
        "marvel_words = ['Avengers', 'X-Men', 'Spider-Man', 'Iron Man', 'Hulk', 'Thor', 'Black Widow', 'Captain America', 'Wolverine', 'Doctor Strange', 'Namor']\n"
      ],
      "metadata": {
        "id": "4xWhhMD7lFiO"
      }
    },
    {
      "cell_type": "code",
      "source": [
        "# Here's your list of characters:\n",
        "\n",
        "marvel_words = ['Avengers', 'X-Men', 'Spider-Man', 'Iron Man', 'Hulk', 'Thor', 'Black Widow', 'Captain America', 'Wolverine', 'Doctor Strange', 'Namor']"
      ],
      "metadata": {
        "id": "wecbawDhmHhv"
      },
      "execution_count": 26,
      "outputs": []
    },
    {
      "cell_type": "markdown",
      "source": [
        "You want to narrow down the list to the last 6 characters in the list. These characters are:\n",
        "\n",
        "* Namor\n",
        "* Doctor Strange\n",
        "* Wolverine\n",
        "* Captain America\n",
        "* Black Widow\n",
        "* Thor\n",
        "\n",
        "\n",
        "\n"
      ],
      "metadata": {
        "id": "LCQe44-gwnxB"
      }
    },
    {
      "cell_type": "markdown",
      "source": [
        "Write a code to slice these characters from the list"
      ],
      "metadata": {
        "id": "ixSrQmeVwwYD"
      }
    },
    {
      "cell_type": "code",
      "source": [
        "# Replace x with appropriate values\n",
        "new_marvel=marvel_words[-1:-7:-1]\n",
        "print(new_marvel)"
      ],
      "metadata": {
        "id": "GF31Mwo2wmM7",
        "colab": {
          "base_uri": "https://localhost:8080/"
        },
        "outputId": "04d3d4d3-c759-4e3e-ebb1-d4c03a8cce5e"
      },
      "execution_count": 27,
      "outputs": [
        {
          "output_type": "stream",
          "name": "stdout",
          "text": [
            "['Namor', 'Doctor Strange', 'Wolverine', 'Captain America', 'Black Widow', 'Thor']\n"
          ]
        }
      ]
    },
    {
      "cell_type": "markdown",
      "source": [
        "## Create two teams of superheroes based on their index position: one team should consist of all the characters located at even index positions, while the other team should consist of all the characters located at odd index positions."
      ],
      "metadata": {
        "id": "ExOuQaMiYSs7"
      }
    },
    {
      "cell_type": "code",
      "source": [
        "team1= marvel_words[1::2]\n",
        "team2 = marvel_words[::2]\n",
        "print(team1)\n",
        "print(team2)"
      ],
      "metadata": {
        "id": "FfV-JzekZBKd",
        "colab": {
          "base_uri": "https://localhost:8080/"
        },
        "outputId": "3c1a7fc8-abca-41c5-8454-419fd0731606"
      },
      "execution_count": 28,
      "outputs": [
        {
          "output_type": "stream",
          "name": "stdout",
          "text": [
            "['X-Men', 'Iron Man', 'Thor', 'Captain America', 'Doctor Strange']\n",
            "['Avengers', 'Spider-Man', 'Hulk', 'Black Widow', 'Wolverine', 'Namor']\n"
          ]
        }
      ]
    },
    {
      "cell_type": "markdown",
      "source": [
        "###3. Store the word 'Spider-Man' in a new variable, and slice the word 'Spider' from it."
      ],
      "metadata": {
        "id": "-mQM5JHjm_pS"
      }
    },
    {
      "cell_type": "code",
      "source": [
        "spider_man=marvel_words[2] # Add appropriate index number\n",
        "spidey_sliced=spider_man[0:6] # Add appropriate index number\n",
        "print(spidey_sliced)\n"
      ],
      "metadata": {
        "id": "3umcx5a5m3Fn",
        "colab": {
          "base_uri": "https://localhost:8080/"
        },
        "outputId": "1a3f2e0d-3789-4835-c816-9bb270e35502"
      },
      "execution_count": 29,
      "outputs": [
        {
          "output_type": "stream",
          "name": "stdout",
          "text": [
            "Spider\n"
          ]
        }
      ]
    },
    {
      "cell_type": "markdown",
      "source": [
        "###4. Store the word 'Iron-Man' in a variable and use reverse indexing to reverse it."
      ],
      "metadata": {
        "id": "K_QHunxknscj"
      }
    },
    {
      "cell_type": "code",
      "source": [
        "#Your code here\n",
        "iron_man=marvel_words[3]\n",
        "reversed_man=iron_man[::-1]\n",
        "print(reversed_man)"
      ],
      "metadata": {
        "id": "LK5c5ELwqpvW",
        "colab": {
          "base_uri": "https://localhost:8080/"
        },
        "outputId": "ad270054-4e57-4faa-8113-f38e314aa999"
      },
      "execution_count": 30,
      "outputs": [
        {
          "output_type": "stream",
          "name": "stdout",
          "text": [
            "naM norI\n"
          ]
        }
      ]
    },
    {
      "cell_type": "markdown",
      "source": [
        "# **Operators in Data Types**"
      ],
      "metadata": {
        "id": "AaQqED-gt1Ij"
      }
    },
    {
      "cell_type": "markdown",
      "source": [
        "\n",
        "## 🎉 Let's do some math!\n",
        "\n",
        "* 📐 First up, let's calculate the area of a square with sides that measure 5 cm. 🤔 How much space does this shape occupy?\n",
        "\n",
        "* 🔍 Next, let's find the volume of a cube with sides that measure 12 cm. 📏 How much room does this shape take up?\n",
        "\n",
        "* 🔢 Lastly, we'll find the quotient and remainder when we divide 10 by 4. 🧐 How many times does 4 fit into 10? What's left over?"
      ],
      "metadata": {
        "id": "HNOkGnOhYRdb"
      }
    },
    {
      "cell_type": "code",
      "source": [
        "ar_square= 5**2\n",
        "vol_cube= 12**3\n",
        "quotient=  10//4\n",
        "remainder= 10%4\n",
        "\n",
        "print(\"Remainder:\",remainder)\n",
        "print(\"Quotient:\",quotient)\n",
        "print(\"Volume of Cube:\",vol_cube)\n",
        "print(\"Area of Square:\",ar_square)"
      ],
      "metadata": {
        "id": "JIBfHim7IrBG",
        "colab": {
          "base_uri": "https://localhost:8080/"
        },
        "outputId": "9f2fab7c-9d96-45de-96ef-666cfc89959c"
      },
      "execution_count": 31,
      "outputs": [
        {
          "output_type": "stream",
          "name": "stdout",
          "text": [
            "Remainder: 2\n",
            "Quotient: 2\n",
            "Volume of Cube: 1728\n",
            "Area of Square: 25\n"
          ]
        }
      ]
    },
    {
      "cell_type": "markdown",
      "source": [
        "## 📚 Let's practice some comparison operators! Here's a problem for you to solve:\n",
        "\n",
        "🍎 The first basket contains 12 apples, and the second basket contains 8 apples. Use comparison operators to answer the following questions:\n",
        "\n",
        "* Is the number of apples in the first basket greater than the number of apples in the second basket?\n",
        "\n",
        "* Is the number of apples in the second basket less than or equal to the number of apples in the first basket?\n",
        "* Is the number of apples in the first basket equal to the number of apples in the second basket?\n",
        "* Is the number of apples in the second basket not equal to the number of apples in the first basket?\n",
        "\n",
        "Use comparison operators (i.e. >, >=, <, <=, ==, !=) in your code to answer each question. Good luck! 🍎🍏"
      ],
      "metadata": {
        "id": "nAX2nLAZWpKI"
      }
    },
    {
      "cell_type": "code",
      "source": [
        "# Your code here\n",
        "basket1= 12\n",
        "basket2= 8\n",
        "\n",
        "print('Is the number of apples in the first basket greater than the number of apples in the second basket?\\n', basket1 > basket2)\n",
        "print('Is the number of apples in the second basket less than or equal to the number of apples in the first basket?\\n', basket1 >= basket2)\n",
        "print('Is the number of apples in the first basket equal to the number of apples in the second basket?\\n', basket1 == basket2)\n",
        "print('Is the number of apples in the second basket not equal to the number of apples in the first basket?\\n', basket1 != basket2)\n"
      ],
      "metadata": {
        "id": "-TsVx5cdWpKI",
        "colab": {
          "base_uri": "https://localhost:8080/"
        },
        "outputId": "77fcd2f7-fcd8-4db4-beb3-bcf544828f55"
      },
      "execution_count": 32,
      "outputs": [
        {
          "output_type": "stream",
          "name": "stdout",
          "text": [
            "Is the number of apples in the first basket greater than the number of apples in the second basket?\n",
            " True\n",
            "Is the number of apples in the second basket less than or equal to the number of apples in the first basket?\n",
            " True\n",
            "Is the number of apples in the first basket equal to the number of apples in the second basket?\n",
            " False\n",
            "Is the number of apples in the second basket not equal to the number of apples in the first basket?\n",
            " True\n"
          ]
        }
      ]
    },
    {
      "cell_type": "markdown",
      "source": [
        "## 🌴 Are you ready for your trip to Goa? 🌊 You've got two bags with you, and you need to make sure they're light enough to board the flight. Let's use some logical operators to find out if you can make it on time!\n",
        "\n",
        "🧳 One of your bags weighs 15 kg, while the other one weighs only 5 kg. 💪 You know you can pack a lot more in the heavier bag, but you have to be careful not to go over the weight limit.\n",
        "\n",
        "👮‍♀️ The airline has a strict policy that both of your bags must weigh less than 13 kg each. Can you make it on the flight? Let's use logical operators to find out!"
      ],
      "metadata": {
        "id": "7_yNqud-j1TS"
      }
    },
    {
      "cell_type": "code",
      "source": [
        "# Define the weight of your bags\n",
        "bag1_weight = 15\n",
        "bag2_weight = 5\n",
        "\n",
        "\n",
        "# Check if both bags weigh less than 13 kg\n",
        "\n",
        "if bag1_weight < 13 and bag2_weight < 13:\n",
        "    print(\"Enjoy your trip!\")\n",
        "else:\n",
        "    print(\"Sorry, you can not go through!\")"
      ],
      "metadata": {
        "id": "3S-wDvHbZYvx",
        "colab": {
          "base_uri": "https://localhost:8080/"
        },
        "outputId": "623ce877-88c2-4063-9354-e496142e1b48"
      },
      "execution_count": 33,
      "outputs": [
        {
          "output_type": "stream",
          "name": "stdout",
          "text": [
            "Sorry, you can not go through!\n"
          ]
        }
      ]
    },
    {
      "cell_type": "code",
      "source": [
        "# Define the weight of your bags\n",
        "bag1_weight = 15\n",
        "bag2_weight = 5\n",
        "\n",
        "# Check if at least one bag weighs less than 6 kg\n",
        "# If the result is False, print(\"Sorry, You can not go through!\")\n",
        "# Else, if the result is True, print(\"Enjoy your trip!\")\n",
        "\n",
        "if bag1_weight<6 or bag2_weight<6:\n",
        "  print(\"Enjoy your trip!\")\n",
        "else:\n",
        "  print('Sorry , you can not go through!')\n"
      ],
      "metadata": {
        "id": "MVrOPAkTbRR0",
        "colab": {
          "base_uri": "https://localhost:8080/"
        },
        "outputId": "fdde887d-3623-460a-bcb0-d9223f295339"
      },
      "execution_count": 34,
      "outputs": [
        {
          "output_type": "stream",
          "name": "stdout",
          "text": [
            "Enjoy your trip!\n"
          ]
        }
      ]
    },
    {
      "cell_type": "markdown",
      "source": [
        "🤔 Did you notice how we made a decision on which print statement to use based on the result of our logical operators? 🤔\n",
        "\n",
        "🚀 Later on, we're going to learn how to do this in a single step, making it even easier for you. So stay curious 😎"
      ],
      "metadata": {
        "id": "vqQMQs4geeYm"
      }
    },
    {
      "cell_type": "markdown",
      "source": [
        "## 📚 Imagine that you're a book lover with a collection of lot of books. 🤓\n",
        "\n",
        "🔎 You need to find out how many of your books contain the word \"Python\" in them. 🐍"
      ],
      "metadata": {
        "id": "0yVUrg0NLnxz"
      }
    },
    {
      "cell_type": "markdown",
      "source": [
        "![giphy (2).gif](data:image/gif;base64,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)"
      ],
      "metadata": {
        "id": "4YHZvhTzZaGX"
      }
    },
    {
      "cell_type": "code",
      "source": [
        "books = [\n",
        "    \"Python for Data Science Handbook by Jake VanderPlas\",\n",
        "    \"The Pragmatic Programmer by Andrew Hunt and David Thomas\",\n",
        "    \"Python Machine Learning by Sebastian Raschka\",\n",
        "    \"The Alchemist by Paulo Coelho\",\n",
        "]\n",
        "count = 0"
      ],
      "metadata": {
        "id": "HE7i9PDDjSLB"
      },
      "execution_count": 53,
      "outputs": []
    },
    {
      "cell_type": "code",
      "source": [
        "if \"Python\" in books[3]:\n",
        "  count +=1      # Change x to 0,1,2 and 3.\n",
        "\n",
        "# If True, increase the count variable by 1."
      ],
      "metadata": {
        "id": "tsmvcBHgjfPa"
      },
      "execution_count": 54,
      "outputs": []
    },
    {
      "cell_type": "code",
      "source": [
        "count=count+1   # run this only once\n",
        "print(count)"
      ],
      "metadata": {
        "id": "TBuLkYnNjsfS",
        "colab": {
          "base_uri": "https://localhost:8080/"
        },
        "outputId": "b793d45f-ee8b-499f-edb1-a945a7179d83"
      },
      "execution_count": 55,
      "outputs": [
        {
          "output_type": "stream",
          "name": "stdout",
          "text": [
            "1\n"
          ]
        }
      ]
    },
    {
      "cell_type": "markdown",
      "source": [
        "# **In-Built Functions & Methods**"
      ],
      "metadata": {
        "id": "B80a_pgbGRll"
      }
    },
    {
      "cell_type": "markdown",
      "source": [
        "## Here is a string for you to work with:"
      ],
      "metadata": {
        "id": "rg1rF2AJqlrU"
      }
    },
    {
      "cell_type": "code",
      "source": [
        "# Here is the statement.\n",
        "\n",
        "statement = \"anas eagerly recommended 'the shawshank redemption' to his friends. He described the movie as a captivating and emotional story of hope and friendship. His friends decided to watch it together the following weekend.\""
      ],
      "metadata": {
        "id": "x5DsgVU5pYep"
      },
      "execution_count": 56,
      "outputs": []
    },
    {
      "cell_type": "code",
      "source": [
        "print(statement)"
      ],
      "metadata": {
        "colab": {
          "base_uri": "https://localhost:8080/"
        },
        "id": "0qMdyUT8Mgv4",
        "outputId": "570e0c0e-9848-46e4-e738-7bcc6656b652"
      },
      "execution_count": 57,
      "outputs": [
        {
          "output_type": "stream",
          "name": "stdout",
          "text": [
            "anas eagerly recommended 'the shawshank redemption' to his friends. He described the movie as a captivating and emotional story of hope and friendship. His friends decided to watch it together the following weekend.\n"
          ]
        }
      ]
    },
    {
      "cell_type": "markdown",
      "source": [
        "1. Create a list containing the three sentences in the statement.\n",
        "Hint: Use split() method."
      ],
      "metadata": {
        "id": "eWwJCSZcrGQr"
      }
    },
    {
      "cell_type": "code",
      "source": [
        "# Create a list containing the three sentences in the statement.\n",
        "\n",
        "sentence_list= statement.split('.')\n",
        "print(sentence_list)"
      ],
      "metadata": {
        "id": "cjAgMMBzqUPX",
        "colab": {
          "base_uri": "https://localhost:8080/"
        },
        "outputId": "90c99f5d-969a-4bc5-8c6e-5fd35d05c65d"
      },
      "execution_count": 58,
      "outputs": [
        {
          "output_type": "stream",
          "name": "stdout",
          "text": [
            "[\"anas eagerly recommended 'the shawshank redemption' to his friends\", ' He described the movie as a captivating and emotional story of hope and friendship', ' His friends decided to watch it together the following weekend', '']\n"
          ]
        }
      ]
    },
    {
      "cell_type": "markdown",
      "source": [
        "2. The name 'anas' is spelled wrong. Replace it with 'Anas'."
      ],
      "metadata": {
        "id": "lutxbv7crjLV"
      }
    },
    {
      "cell_type": "code",
      "source": [
        "# The name 'anas' is spelled wrong.\n",
        "# Replace it with 'Anas'.\n",
        "\n",
        "statement=  statement.replace('anas','Anas')\n",
        "print(statement)\n"
      ],
      "metadata": {
        "id": "wihquZM3pptr",
        "colab": {
          "base_uri": "https://localhost:8080/"
        },
        "outputId": "076e2bc6-7062-443b-eac8-85c3c6bba61a"
      },
      "execution_count": 59,
      "outputs": [
        {
          "output_type": "stream",
          "name": "stdout",
          "text": [
            "Anas eagerly recommended 'the shawshank redemption' to his friends. He described the movie as a captivating and emotional story of hope and friendship. His friends decided to watch it together the following weekend.\n"
          ]
        }
      ]
    },
    {
      "cell_type": "markdown",
      "source": [
        "3. The title of the book is not written in the correct cases as well. Make corrections there."
      ],
      "metadata": {
        "id": "HaY-Pmgrr14E"
      }
    },
    {
      "cell_type": "code",
      "source": [
        "# Make corrections here.\n",
        "statement= statement.replace('the shawshank redemption','the shawshank redemption'.title())\n",
        "print(statement)"
      ],
      "metadata": {
        "id": "qy50EVKesKoa",
        "colab": {
          "base_uri": "https://localhost:8080/"
        },
        "outputId": "cf8eb68b-5dcb-49db-b9a1-8cacc1c02767"
      },
      "execution_count": 60,
      "outputs": [
        {
          "output_type": "stream",
          "name": "stdout",
          "text": [
            "Anas eagerly recommended 'The Shawshank Redemption' to his friends. He described the movie as a captivating and emotional story of hope and friendship. His friends decided to watch it together the following weekend.\n"
          ]
        }
      ]
    },
    {
      "cell_type": "markdown",
      "source": [
        "4. You believe \"The Shawshank Redemption\" would be bit too gloomy for the lot. Take user input of which movie to recommend and replace \"The Shawshank Redemption\" from the statement with the new recommendation."
      ],
      "metadata": {
        "id": "g7-df8O_sa8w"
      }
    },
    {
      "cell_type": "code",
      "source": [
        "# Change the recommendation of movie to one, of your choice.\n",
        "# Take input of movie\n",
        "\n",
        "new_movie=input(\"Which movie wold you recommend? \")\n",
        "statement= statement.replace('The Shawshank Redemption',new_movie)\n",
        "print(statement)"
      ],
      "metadata": {
        "id": "FaoDdYues1sT",
        "colab": {
          "base_uri": "https://localhost:8080/"
        },
        "outputId": "4692a377-2443-45ae-95da-fc2d983d24c7"
      },
      "execution_count": 61,
      "outputs": [
        {
          "output_type": "stream",
          "name": "stdout",
          "text": [
            "Which movie wold you recommend? 3 Idiots\n",
            "Anas eagerly recommended '3 Idiots' to his friends. He described the movie as a captivating and emotional story of hope and friendship. His friends decided to watch it together the following weekend.\n"
          ]
        }
      ]
    },
    {
      "cell_type": "markdown",
      "source": [
        "## 🎥 Suppose you have a collection of your favorite movies 🍿🎞️ and you want to keep track of them using a Python list 📜. You start with an empty list [] and keep adding new movies 🆕 to it. You also want to be able to remove movies ❌ that you have watched or no longer wish to keep in your collection. Finally, you want to be able to count 🔢 how many movies you have in your collection and reverse the order of the list 🔄."
      ],
      "metadata": {
        "id": "qCn4QduqtXLg"
      }
    },
    {
      "cell_type": "code",
      "source": [
        "# Start with an empty list\n",
        "movie_collection = []\n",
        "\n",
        "# Add some movies to the collection using the append() method\n",
        "movie_collection.append(\"3 Idiots\") # Use your favourite movie names\n",
        "movie_collection.append(\"Khata Metha\")\n",
        "movie_collection.append(\"OMG\")\n",
        "movie_collection.append(\"Avatar\")\n",
        "movie_collection.append(\"Thor\")\n",
        "\n",
        "# Print the current collection of movies\n",
        "print(\"My Movie Collection:\", movie_collection)\n",
        "\n",
        "# Remove a movie from the collection using the pop() method\n",
        "# Code to remove index 3 here/\n",
        "movie_collection.pop(3)\n",
        "print( movie_collection)\n",
        "\n",
        "# Count how many movies are in the collection using the count() method\n",
        "num_movies = len(movie_collection)\n",
        "print(num_movies)\n",
        "\n",
        "# Reverse the order of the list using the reverse() method\n",
        "movie_collection.reverse()\n",
        "print(\"Reversed movie collection:\", movie_collection)\n"
      ],
      "metadata": {
        "id": "gHyiib9ptWpx",
        "colab": {
          "base_uri": "https://localhost:8080/"
        },
        "outputId": "28886a25-2879-4fd4-fed9-5b32544b8928"
      },
      "execution_count": 62,
      "outputs": [
        {
          "output_type": "stream",
          "name": "stdout",
          "text": [
            "My Movie Collection: ['3 Idiots', 'Khata Metha', 'OMG', 'Avatar', 'Thor']\n",
            "['3 Idiots', 'Khata Metha', 'OMG', 'Thor']\n",
            "4\n",
            "Reversed movie collection: ['Thor', 'OMG', 'Khata Metha', '3 Idiots']\n"
          ]
        }
      ]
    },
    {
      "cell_type": "markdown",
      "source": [
        "## 👩‍🏫 A teacher has stored the names of his students in a tuple as follows:\n",
        "('Adam','Alice','Ben','Bilal','Bharath')\n",
        "\n",
        "👨‍🎓 Their role numbers are defined as their index number + 1.\n",
        "\n",
        "🖥️ Write a program which would take the name of the student as input and return their role number."
      ],
      "metadata": {
        "id": "uEY4_vNcvEZj"
      }
    },
    {
      "cell_type": "code",
      "source": [
        "student_tupple=('Adam','Alice','Ben','Bilal','Bharath')"
      ],
      "metadata": {
        "id": "MuXV52jRwNWR"
      },
      "execution_count": 63,
      "outputs": []
    },
    {
      "cell_type": "code",
      "source": [
        "# Take input from user and display role number as index of the input + 1\n",
        "student=input(\"Input the student name to get roll number - \")\n",
        "print(student,\"'s roll number is: \", student_tupple.index(student)+1) # Replace x with appropriate value"
      ],
      "metadata": {
        "colab": {
          "base_uri": "https://localhost:8080/"
        },
        "id": "XPMNZkTnwRhb",
        "outputId": "0dd9ed3f-701c-40e9-8ca3-b808d97d7ab8"
      },
      "execution_count": 65,
      "outputs": [
        {
          "output_type": "stream",
          "name": "stdout",
          "text": [
            "Input the student name to get roll number - Bilal\n",
            "Bilal 's roll number is:  4\n"
          ]
        }
      ]
    },
    {
      "cell_type": "markdown",
      "source": [
        "## A store 🏪 sells different types of fruits 🍎🍌🍇🍓 in baskets 🧺. The storekeeper 🧑 keeps track of the availability of each fruit type in separate sets. The storekeeper wants to know which fruits are available in both baskets, which fruits are unique to each basket, and the total number of fruits available. 🤔"
      ],
      "metadata": {
        "id": "8fz0W273yMnA"
      }
    },
    {
      "cell_type": "code",
      "source": [
        "# Define sets for fruits in each basket\n",
        "basket1 = {'apple', 'banana', 'grape', 'orange'}\n",
        "basket2 = {'banana', 'mango', 'pineapple', 'orange'}\n",
        "both_baskets = basket1.union(basket2)\n",
        "# Find the total number of fruits available\n",
        "total_fruits = len(both_baskets)\n",
        "print(\"Total number of fruits available:\", total_fruits)\n",
        "\n",
        "# Find fruits available in both baskets\n",
        "both_baskets = basket1 | basket2   # Replace x with appropriate method\n",
        "print(\"All the available fruits:\", both_baskets)\n",
        "\n",
        "# Find only the common fruits in both baskets\n",
        "common_fruits = basket1 & basket2   # Replace x with appropriate method\n",
        "print(\"Common fruits in both baskets:\", common_fruits)\n",
        "\n",
        "# Find fruits unique to each basket\n",
        "unique_basket1 = basket1 - basket2    # Replace x with appropriate method\n",
        "unique_basket2 = basket2 - basket1    # Replace x with appropriate method\n",
        "print(\"Fruits unique to basket 1:\", unique_basket1)\n",
        "print(\"Fruits unique to basket 2:\", unique_basket2)\n",
        "\n",
        "\n"
      ],
      "metadata": {
        "id": "v8PqzLt52z15",
        "colab": {
          "base_uri": "https://localhost:8080/"
        },
        "outputId": "da2e1a54-1574-467a-fb34-5c4330886af9"
      },
      "execution_count": 66,
      "outputs": [
        {
          "output_type": "stream",
          "name": "stdout",
          "text": [
            "Total number of fruits available: 6\n",
            "All the available fruits: {'pineapple', 'mango', 'banana', 'orange', 'apple', 'grape'}\n",
            "Common fruits in both baskets: {'banana', 'orange'}\n",
            "Fruits unique to basket 1: {'apple', 'grape'}\n",
            "Fruits unique to basket 2: {'pineapple', 'mango'}\n"
          ]
        }
      ]
    },
    {
      "cell_type": "markdown",
      "source": [
        "# **Statements, Indentation & Conditionals**"
      ],
      "metadata": {
        "id": "gklgsrl6kIW8"
      }
    },
    {
      "cell_type": "markdown",
      "source": [
        "## 👉 Imagine that you are a food inspector who is responsible for inspecting the lead content of a packaged food material at a factory. If the content exceeds 5%, you should print the message \"This batch cannot be approved\".\n"
      ],
      "metadata": {
        "id": "ByhB8JrbeqQB"
      }
    },
    {
      "cell_type": "code",
      "source": [
        "# Get the lead content of the packaged food material\n",
        "lead_content = float(input(\"Please enter the lead content of the packaged food material in percentage: \"))\n",
        "\n",
        "# Check if the lead content exceeds 5%\n",
        "\n",
        "if lead_content > 5:\n",
        "  print('This batch cannot be approved')"
      ],
      "metadata": {
        "id": "SZMMKSXteqQC",
        "colab": {
          "base_uri": "https://localhost:8080/"
        },
        "outputId": "be73cce8-0ea5-4336-9f6a-9b0ed6307cc1"
      },
      "execution_count": 67,
      "outputs": [
        {
          "output_type": "stream",
          "name": "stdout",
          "text": [
            "Please enter the lead content of the packaged food material in percentage: 7\n",
            "This batch cannot be approved\n"
          ]
        }
      ]
    },
    {
      "cell_type": "markdown",
      "source": [
        "## 👉 Imagine: You're a bouncer at a nightclub and need to check if someone is old enough to enter. The legal age for entry is 18 years. If the person is less than 18 years print \"Sorry You can not enter!\"."
      ],
      "metadata": {
        "id": "AbgFO_SEeqQD"
      }
    },
    {
      "cell_type": "code",
      "source": [
        "age = int(input(\"enter the age \"))\n",
        "\n",
        "\n",
        "#Check the age of the guest\n",
        "\n",
        "if age<18:\n",
        "  print('Sorry You can not enter!')"
      ],
      "metadata": {
        "colab": {
          "base_uri": "https://localhost:8080/"
        },
        "outputId": "72e76591-1136-4d14-c56c-255792f316f9",
        "id": "0uZg98vneqQE"
      },
      "execution_count": 68,
      "outputs": [
        {
          "output_type": "stream",
          "name": "stdout",
          "text": [
            "enter the age 13\n",
            "Sorry You can not enter!\n"
          ]
        }
      ]
    },
    {
      "cell_type": "markdown",
      "source": [
        "## 👉 Imagine you are a fitness instructor who needs to evaluate if a client has reached their weight loss goal. The target weight loss goal is 10 pounds. If the client has lost at least 10 pounds, you should print the message \"Congratulations, you have reached your weight loss goal!\" However, if the client has lost less than 10 pounds, you should print \"Sorry, you have not reached your weight loss goal yet. Keep up the good work!\""
      ],
      "metadata": {
        "id": "fmzxpgNEo1Le"
      }
    },
    {
      "cell_type": "code",
      "source": [
        "# Get the client's weight loss\n",
        "client_weight_loss = float(input(\"Please enter the client's weight loss (in pounds): \"))\n",
        "\n",
        "# Check if the client reached their weight loss goal\n",
        "\n",
        "if client_weight_loss >=10:\n",
        "  print( \"Congratulations, you have reached your weight loss goal!\")\n",
        "else:\n",
        "  print(\"Sorry, you have not reached your weight loss goal yet. Keep up the good work!\")\n",
        "\n"
      ],
      "metadata": {
        "id": "nDMEHColo5hu",
        "colab": {
          "base_uri": "https://localhost:8080/"
        },
        "outputId": "32df017d-5bde-4d09-8f2c-3f061c3fedd8"
      },
      "execution_count": 69,
      "outputs": [
        {
          "output_type": "stream",
          "name": "stdout",
          "text": [
            "Please enter the client's weight loss (in pounds): 8\n",
            "Sorry, you have not reached your weight loss goal yet. Keep up the good work!\n"
          ]
        }
      ]
    },
    {
      "cell_type": "markdown",
      "source": [
        "##👉 Imagine: You're a gardener and need to check if a plant needs watering. If the soil moisture level is below 40%, print \"Water the plant!\", otherwise, print \"The plant doesn't need watering.\""
      ],
      "metadata": {
        "id": "eLOwny2bprgv"
      }
    },
    {
      "cell_type": "code",
      "source": [
        "# Take input of moisture level\n",
        "moisture_level = int(input(\"Enter moisture level \"))\n",
        "\n",
        "#Check if moisture level is satisfactory or not\n",
        "\n",
        "if moisture_level<40:\n",
        "  print(\"Water the plant!\")\n",
        "else:\n",
        "  print(\"The plant doesn't need watering.\")"
      ],
      "metadata": {
        "id": "8SAviqFOp1xX",
        "colab": {
          "base_uri": "https://localhost:8080/"
        },
        "outputId": "38691010-3931-48db-b302-d4dbbe1a2586"
      },
      "execution_count": 70,
      "outputs": [
        {
          "output_type": "stream",
          "name": "stdout",
          "text": [
            "Enter moisture level 40\n",
            "The plant doesn't need watering.\n"
          ]
        }
      ]
    },
    {
      "cell_type": "markdown",
      "source": [
        "##📦📬🚚 Creating a shipping cost calculator! ⚙️\n",
        "\n",
        "You need to create a program that calculates the cost of shipping a package based on its weight and destination 📦💰\n",
        "\n",
        "🌍 Domestic shipping within the country :\n",
        "\n",
        "* Packages weighing up to 1 kg cost Rs.50 to ship 🤑\n",
        "Each additional kg costs Rs.10 extra 💰\n",
        "\n",
        "🌎 International shipping to other countries 🌏:\n",
        "\n",
        "* Packages weighing up to 1 kg cost Rs.500 to ship 🤑\n",
        "\n",
        "Each additional kg costs Rs.100 extra 💰\n",
        "Ready to ship? 🚛🚀"
      ],
      "metadata": {
        "id": "XA2dKqlxMVsH"
      }
    },
    {
      "cell_type": "code",
      "source": [
        "destination = input(\"domestic or International \")\n",
        "weight = int(input('Enter the shipment weight: '))\n",
        "\n",
        "if destination == 'domestic':\n",
        "  if weight == 1:\n",
        "    cost = 50\n",
        "  else:\n",
        "    cost = 50 + (weight -1) * 10\n",
        "\n",
        "if destination == 'International':\n",
        "  if weight == 1:\n",
        "    cost = 500\n",
        "  else:\n",
        "    cost = 100 + (weight -1) * 100\n",
        "\n",
        "print(destination,' shipment cost  is ', cost)"
      ],
      "metadata": {
        "colab": {
          "base_uri": "https://localhost:8080/"
        },
        "id": "v_lEotXZPzDo",
        "outputId": "6436cc09-6d86-4f1d-fb0e-dfae849e75d6"
      },
      "execution_count": 71,
      "outputs": [
        {
          "output_type": "stream",
          "name": "stdout",
          "text": [
            "domestic or International International\n",
            "Enter the shipment weight: 7\n",
            "International  shipment cost  is  700\n"
          ]
        }
      ]
    },
    {
      "cell_type": "markdown",
      "source": [
        "## 🚗 As a car dealership manager, you need to create a discount system for your customers based on the price of the car they want to buy. Here are the rules! 📝\n",
        "\n",
        "🚘 If the car price is less than Rs. 10,00,000, there is no discount.\n",
        "\n",
        "🎁 If the car price is between Rs. 10,00,000 and Rs. 20,00,000, there is a discount of 5%.\n",
        "\n",
        "🎉 If the car price is between Rs. 20,00,000 and Rs. 30,00,000, there is a discount of 7.5%.\n",
        "\n",
        "🥳 If the car price is greater than Rs. 30,00,000, there is a discount of 10%.\n",
        "\n",
        "Are you ready to make your customers happy with these discounts? 🚗💰"
      ],
      "metadata": {
        "id": "gLPLG7NaYofV"
      }
    },
    {
      "cell_type": "code",
      "source": [
        "price = int(input('Enter the price of car: '))\n",
        "\n",
        "if price > 300000:\n",
        "  discount = 10\n",
        "elif price > 200000:\n",
        "  discount = 7.5\n",
        "elif price > 100000:\n",
        "  discount = 5\n",
        "else:\n",
        "  discount = 0\n",
        "\n",
        "print('Discount allowed on ',price,'is',discount,'%')"
      ],
      "metadata": {
        "colab": {
          "base_uri": "https://localhost:8080/"
        },
        "id": "s8z42mabQEM4",
        "outputId": "864c59de-06c9-476d-ed72-ff4cff911561"
      },
      "execution_count": 72,
      "outputs": [
        {
          "output_type": "stream",
          "name": "stdout",
          "text": [
            "Enter the price of car: 270000\n",
            "Discount allowed on  270000 is 7.5 %\n"
          ]
        }
      ]
    },
    {
      "cell_type": "markdown",
      "source": [
        "# **Loops & Iterations**"
      ],
      "metadata": {
        "id": "9PNEVRVaIfLS"
      }
    },
    {
      "cell_type": "markdown",
      "source": [
        "## You and your friends are playing a board game where you roll a dice and move your game piece accordingly. However, you want to know the average number rolled by each player to see who's really the luckiest. Write a program that takes a list of rolls as input for each player and uses a for loop to calculate the average roll for each player. The winner gets bragging rights for being the luckiest!\n",
        "\n",
        "\n"
      ],
      "metadata": {
        "id": "QFad4dlHWjvx"
      }
    },
    {
      "cell_type": "code",
      "source": [
        "player_rolls = [\n",
        "    [3, 5, 6, 2, 1],  # player 1's rolls\n",
        "    [4, 4, 6, 3, 2],  # player 2's rolls\n",
        "    [1, 5, 6, 6, 4]   # player 3's rolls\n",
        "] # list of a list"
      ],
      "metadata": {
        "id": "3-X0wqWCzuna"
      },
      "execution_count": 73,
      "outputs": []
    },
    {
      "cell_type": "code",
      "source": [
        "max_avg = 0\n",
        "max_index = 0\n",
        "\n",
        "#for loop for iteration\n",
        "for index in range(len(player_rolls)):\n",
        "  print(player_rolls[index])\n",
        "  average_index = sum(player_rolls[index])/len(player_rolls[index])\n",
        "  if average_index>max_avg:\n",
        "    max_avg = average_index\n",
        "    max_index = index\n",
        "    print(f\"Player {index + 1 }'s average is {average_index}\")"
      ],
      "metadata": {
        "id": "2Y9gP41ewxLM",
        "colab": {
          "base_uri": "https://localhost:8080/"
        },
        "outputId": "9e54439b-d695-4922-fe48-c2480aacf81b"
      },
      "execution_count": 74,
      "outputs": [
        {
          "output_type": "stream",
          "name": "stdout",
          "text": [
            "[3, 5, 6, 2, 1]\n",
            "Player 1's average is 3.4\n",
            "[4, 4, 6, 3, 2]\n",
            "Player 2's average is 3.8\n",
            "[1, 5, 6, 6, 4]\n",
            "Player 3's average is 4.4\n"
          ]
        }
      ]
    },
    {
      "cell_type": "markdown",
      "source": [
        "**Instructions:**\n",
        "\n",
        "1. Define a list of rolls for each player, where each list contains the numbers rolled by the player.\n",
        "2. Use a for loop to iterate over each player's rolls in the list of player rolls.\n",
        "3. For each player, calculate the average roll by summing up all the rolls and dividing by the number of rolls. You can use the formula sum(rolls) / len(rolls) to do this.\n",
        "4. Print out each player's average roll using f-strings to display the player number and their average roll to two decimal places."
      ],
      "metadata": {
        "id": "y3BYcWJyzUVn"
      }
    },
    {
      "cell_type": "markdown",
      "source": [
        "## Write a Python program that analyzes a list of names and sorts them into two categories: those that start with a vowel and those that start with a consonant. To achieve this, you'll use a nested loop and some basic conditional statements."
      ],
      "metadata": {
        "id": "VB0b9bivcyKL"
      }
    },
    {
      "cell_type": "code",
      "source": [
        "names = [\"Alice\", \"Bob\", \"Eve\", \"Charlie\", \"Ivy\", \"David\", \"Olivia\", \"Peter\"]\n",
        "vowels = []\n",
        "consonant = []\n",
        "\n",
        "for name in names:\n",
        "  if name[0] in 'aeiouAEIOU':\n",
        "    vowels.append(name)\n",
        "  else:\n",
        "    consonant.append(name)\n",
        "\n",
        "print(f'Names starting with vowels are {vowels}')\n",
        "print(f'Names starting with consonant are {consonant}')\n"
      ],
      "metadata": {
        "id": "-tuXcVjceNDA",
        "colab": {
          "base_uri": "https://localhost:8080/"
        },
        "outputId": "52689235-9973-4969-83cb-e83dccca5f31"
      },
      "execution_count": 76,
      "outputs": [
        {
          "output_type": "stream",
          "name": "stdout",
          "text": [
            "Names starting with vowels are ['Alice', 'Eve', 'Ivy', 'Olivia']\n",
            "Names starting with consonant are ['Bob', 'Charlie', 'David', 'Peter']\n"
          ]
        }
      ]
    },
    {
      "cell_type": "markdown",
      "source": [
        "**Instructions**\n",
        "\n",
        "1. Start by defining a list of names. You can call this list names and initialize it with a few names.\n",
        "\n",
        "2. Define two empty lists to store the names that start with vowels and consonants, respectively. You can call these lists vowel_names and consonant_names.\n",
        "\n",
        "3. Use a nested loop to iterate through each name in the names list. The outer loop should iterate through each name, while the inner loop should iterate through each character in the name.\n",
        "\n",
        "4. Inside the inner loop, use an if statement to check if the first letter of the name is a vowel or a consonant. You can do this by checking if the first character of the name is in a list of vowels.\n",
        "\n",
        "5. If the first letter is a vowel, append the name to the vowel_names list using the append() method.\n",
        "\n",
        "6. If the first letter is a consonant, append the name to the consonant_names list using the append() method.\n",
        "\n",
        "7. Once the loop has finished iterating through all the names, use the print() function to print the two lists of names. You can include a message indicating which list contains the names that start with vowels and which list contains the names that start with consonants"
      ],
      "metadata": {
        "id": "7kDiyL4K74s0"
      }
    },
    {
      "cell_type": "markdown",
      "source": [
        "## You are a teacher and you have a dictionary containing the grades of your students in a particular subject. The keys of the dictionary are the names of the students, and the values are their respective grades. You need to find the students who scored above 90% and print out their names."
      ],
      "metadata": {
        "id": "-8hkwqg8m8wN"
      }
    },
    {
      "cell_type": "code",
      "source": [
        "# Define the grades dictionary\n",
        "grades = {\n",
        "    'Alice': 85,\n",
        "    'Bob': 92,\n",
        "    'Charlie': 88,\n",
        "    'David': 95,\n",
        "    'Emily': 78,\n",
        "    'Frank': 91\n",
        "}\n",
        "\n",
        "# Write Your Code Here\n",
        "\n",
        "for name,grade in grades.items():\n",
        "  if grade>90:\n",
        "    print(name)"
      ],
      "metadata": {
        "id": "FB2JqhT_nYSe",
        "colab": {
          "base_uri": "https://localhost:8080/"
        },
        "outputId": "b16863b6-5440-4858-fa9d-01d5232160e5"
      },
      "execution_count": 77,
      "outputs": [
        {
          "output_type": "stream",
          "name": "stdout",
          "text": [
            "Bob\n",
            "David\n",
            "Frank\n"
          ]
        }
      ]
    },
    {
      "cell_type": "markdown",
      "source": [
        "**Instruction**\n",
        "\n",
        "1. Define a dictionary to store the grades of the students. The keys of the dictionary should be the names of the students, and the values should be their respective grades.\n",
        "\n",
        "2. Loop through the dictionary using a for loop and retrieve the grade of each student.\n",
        "\n",
        "3. Check if the grade is greater than 90%. If it is, print out the name of the student.\n",
        "\n",
        "4. Repeat steps 2-3 for all the students in the dictionary.\n",
        "\n",
        "5. Once the loop is complete, the names of the students who scored above 90% will have been printed to the console."
      ],
      "metadata": {
        "id": "TPiFO0N8Auts"
      }
    },
    {
      "cell_type": "code",
      "source": [
        "# Define the grades dictionary\n",
        "grades = {\n",
        "    'Alice': 85,\n",
        "    'Bob': 92,\n",
        "    'Charlie': 88,\n",
        "    'David': 95,\n",
        "    'Emily': 78,\n",
        "    'Frank': 91\n",
        "}\n",
        "\n",
        "# Write Your Code Here\n",
        "for student, grade in grades.items():\n",
        "    if grade > 90:\n",
        "        print(student)"
      ],
      "metadata": {
        "colab": {
          "base_uri": "https://localhost:8080/"
        },
        "id": "iVEM6j8nQ1JN",
        "outputId": "62dff977-fcff-4f25-c4dc-fa04cffbeae6"
      },
      "execution_count": 78,
      "outputs": [
        {
          "output_type": "stream",
          "name": "stdout",
          "text": [
            "Bob\n",
            "David\n",
            "Frank\n"
          ]
        }
      ]
    },
    {
      "cell_type": "markdown",
      "source": [
        "## You're given a nested list of numbers, and your task is to count the number of odd and even numbers in the list. To achieve this, you'll use a nested loop and some basic conditional statements.\n",
        "\n",
        "List - numbers = [\n",
        "    [2, 5, 11, 20, 8],\n",
        "    [9, 4, 15, 28, 17],\n",
        "    [1, 6, 21, 18, 3],\n",
        "    [10, 13, 25, 33, 30],\n",
        "    [14, 7, 16, 19, 22]\n",
        "]"
      ],
      "metadata": {
        "id": "zr6auy0z5TvR"
      }
    },
    {
      "cell_type": "markdown",
      "source": [
        "**Instructions**\n",
        "\n",
        "1. Inititate the odd and even count variables.\n",
        "2. Iterate through the outer list first. ie, [2,5,11,20,8] would be the item in the first iteration.\n",
        "3. Iterate through this resulting list using an inner for loop.\n",
        "4. Check if the number is odd or even, and add the count to the counter variables initialised before.\n",
        "5. Print the odd and even counts.\n"
      ],
      "metadata": {
        "id": "enPfQ0-Zkodd"
      }
    },
    {
      "cell_type": "code",
      "source": [
        "# List of numbers\n",
        "numbers = [\n",
        "    [2, 5, 11, 20, 8],\n",
        "    [9, 4, 15, 28, 17],\n",
        "    [1, 6, 21, 18, 3],\n",
        "    [10, 13, 25, 33, 30],\n",
        "    [14, 7, 16, 19, 22]\n",
        "]\n",
        "\n",
        "even_count = 0\n",
        "odd_count = 0\n",
        "\n",
        "# Your code here:\n",
        "\n",
        "for number in numbers:\n",
        "  for i in number:\n",
        "    if i%2==0:\n",
        "      even_count +=1\n",
        "    else:\n",
        "      odd_count +=1\n",
        "\n",
        "print('Even number count is',even_count)\n",
        "print('Odd number count is', odd_count)"
      ],
      "metadata": {
        "id": "WDIj__rukmfu",
        "colab": {
          "base_uri": "https://localhost:8080/"
        },
        "outputId": "51a93765-a455-462e-dc36-63c7e2eda008"
      },
      "execution_count": 79,
      "outputs": [
        {
          "output_type": "stream",
          "name": "stdout",
          "text": [
            "Even number count is 12\n",
            "Odd number count is 13\n"
          ]
        }
      ]
    },
    {
      "cell_type": "markdown",
      "source": [
        "## Imagine you're organizing a chess tournament 🏆, where each player has to play against every other player. To achieve this, you can use nested loops in Python! Nested loops are simply loops within loops, and they come in handy when you need to perform tasks involving multiple levels of iteration.\n",
        "\n",
        "In Python, you can nest 'for' loops, 'while' loops, or even a combination of both. Let's take a closer look at how nested loops work using our chess tournament scenario:"
      ],
      "metadata": {
        "id": "zqZRSProCrKH"
      }
    },
    {
      "cell_type": "code",
      "source": [
        "# Write Your Code Here\n",
        "players = ['Alice', 'Bob', 'Charlie', 'Diana']\n",
        "\n",
        "for player1 in players:\n",
        "  for player2 in players:\n",
        "    if player1 != player2:\n",
        "      print(f'{player1} vs {player2}')"
      ],
      "metadata": {
        "id": "2X6rmjkWGbUu",
        "colab": {
          "base_uri": "https://localhost:8080/"
        },
        "outputId": "50476e75-8150-4b70-b221-44e79c6703ae"
      },
      "execution_count": 80,
      "outputs": [
        {
          "output_type": "stream",
          "name": "stdout",
          "text": [
            "Alice vs Bob\n",
            "Alice vs Charlie\n",
            "Alice vs Diana\n",
            "Bob vs Alice\n",
            "Bob vs Charlie\n",
            "Bob vs Diana\n",
            "Charlie vs Alice\n",
            "Charlie vs Bob\n",
            "Charlie vs Diana\n",
            "Diana vs Alice\n",
            "Diana vs Bob\n",
            "Diana vs Charlie\n"
          ]
        }
      ]
    },
    {
      "cell_type": "markdown",
      "source": [
        "**Instructions**\n",
        "\n",
        "1. Inititiate the list.\n",
        "2. Iterate through the list in first loop.\n",
        "3. Iterate throught the same list in inner loop.\n",
        "4. Compare the element in the outer and inner loops. If they are not the same players, print \"Player x plays against Player y\".\n"
      ],
      "metadata": {
        "id": "fQDnnflBDz6C"
      }
    },
    {
      "cell_type": "markdown",
      "source": [
        "# **Conditional & Infinite Looping**"
      ],
      "metadata": {
        "id": "Q5d2ryJwIrH9"
      }
    },
    {
      "cell_type": "markdown",
      "source": [
        "## **Building a Simple Calculator**\n",
        "\n",
        "In this activity, you will build a simple calculator using conditional looping in Python. The calculator will ask the user for two numbers and an operation (addition, subtraction, multiplication, or division), and then perform the operation on the two numbers."
      ],
      "metadata": {
        "id": "bORtEvsst-Hi"
      }
    },
    {
      "cell_type": "markdown",
      "source": [
        "**Instructions**:\n",
        "\n",
        "1. First, enter your first choice number.\n",
        "2. Second, enter your second choice number.\n",
        "3. Choose or enter the operation you want to perform.User Input will be \"(addition, subtraction, multiplication, or division)\".\n",
        "4. Use a conditional loop to perform the appropriate operation you want to perform.\n",
        "5. Finally, print the result of the operation."
      ],
      "metadata": {
        "id": "mdhVQGZwutpZ"
      }
    },
    {
      "cell_type": "code",
      "source": [
        "# Write code here\n",
        "# Write code here\n",
        "num1 = int(input('Enter number 1: '))\n",
        "num2 = int(input('Enter number 2: '))\n",
        "operation = input('addition, subtraction, multiplication, or division: ')\n",
        "\n",
        "if operation == 'addition':\n",
        "  print(num1 + num2)\n",
        "elif operation == 'subtraction':\n",
        "  print(num1 - num2)\n",
        "elif operation == 'multiplication':\n",
        "  print(num1 * num2)\n",
        "elif operation == 'division':\n",
        "  print(num1 / num2)\n",
        "else:\n",
        "  print('please enter valid operator')"
      ],
      "metadata": {
        "id": "Ushzbz-RuqxV",
        "colab": {
          "base_uri": "https://localhost:8080/"
        },
        "outputId": "4ace0776-81b9-4c60-fca8-6cc90b90e31c"
      },
      "execution_count": 81,
      "outputs": [
        {
          "output_type": "stream",
          "name": "stdout",
          "text": [
            "Enter number 1: 12\n",
            "Enter number 2: 13\n",
            "addition, subtraction, multiplication, or division: addition\n",
            "25\n"
          ]
        }
      ]
    },
    {
      "cell_type": "markdown",
      "source": [
        "## **Building a Guessing Game**\n",
        "\n",
        "In this activity, you will build a simple guessing game using conditional looping in Python. The game will generate a random number between 1 and 100, and the user will have to guess the number within a certain number of tries. The program will provide hints to the user after each guess, telling them whether their guess is too high or too low."
      ],
      "metadata": {
        "id": "BdL16-CWuLGr"
      }
    },
    {
      "cell_type": "markdown",
      "source": [
        "**What is the random module?**\n",
        "\n",
        "The random module is a built-in Python module that provides a suite of functions for generating random numbers and sequences. This module is often used in applications where randomization is important, such as games, simulations, and cryptography.\n",
        "\n",
        "You do not need to worry much about this as you will be learning about these modules and functions in the upcoming classes."
      ],
      "metadata": {
        "id": "arBlBPJ2eJ7R"
      }
    },
    {
      "cell_type": "markdown",
      "source": [
        "**Instructions:**\n",
        "\n",
        "1. First, import the \"random\" module to generate a random number for the game.\n",
        "2. Next, enter the number of tries you want to have and set a counter to keep track of how many tries you are left with.\n",
        "3. Now, use a while loop to allow yourself to keep guessing until you either guess the correct number or run out of tries.\n",
        "4. Finally, if you run out of tries without guessing the correct number, print a message telling what the secret number was."
      ],
      "metadata": {
        "id": "DI80fya5vZDs"
      }
    },
    {
      "cell_type": "code",
      "source": [
        "import random\n",
        "\n",
        "# Generate a random number between 1 and 100\n",
        "secret_number = random.randint(1, 100)\n",
        "tries = 5\n",
        "i = 0\n",
        "# Write code here\n",
        "\n",
        "while i<tries:\n",
        "  guess = int(input('Enter the guess number '))\n",
        "  if guess == secret_number:\n",
        "    print(f'Correct guess ! the number is {guess}')\n",
        "  elif guess > secret_number:\n",
        "    print('The number is too large')\n",
        "  elif guess < secret_number:\n",
        "    print('The number is too small')\n",
        "\n",
        "  print(f'Try again, yoh have left {tries - 1}')\n",
        "  tries -= 1\n",
        "\n",
        "  if tries<=0:\n",
        "    print('Sorry you have run out of tries')"
      ],
      "metadata": {
        "id": "23RmOUN2vW9s",
        "colab": {
          "base_uri": "https://localhost:8080/"
        },
        "outputId": "969ed841-f852-4a8c-bda5-5702f15f50ad"
      },
      "execution_count": 83,
      "outputs": [
        {
          "output_type": "stream",
          "name": "stdout",
          "text": [
            "Enter the guess number 1\n",
            "The number is too small\n",
            "Try again, yoh have left 4\n",
            "Enter the guess number 5\n",
            "The number is too small\n",
            "Try again, yoh have left 3\n",
            "Enter the guess number 25\n",
            "The number is too small\n",
            "Try again, yoh have left 2\n",
            "Enter the guess number 50\n",
            "The number is too small\n",
            "Try again, yoh have left 1\n",
            "Enter the guess number 90\n",
            "The number is too large\n",
            "Try again, yoh have left 0\n",
            "Sorry you have run out of tries\n"
          ]
        }
      ]
    },
    {
      "cell_type": "markdown",
      "source": [
        "## **Building a Fibonacci Sequence Generator**\n",
        "\n",
        "In this activity, you will build a program that generates a Fibonacci sequence using conditional looping in Python. The Fibonacci sequence is a series of numbers in which each number is the sum of the two preceding numbers. The sequence starts with 0 and 1, and the next number in the sequence is the sum of the previous two numbers."
      ],
      "metadata": {
        "id": "CxWXvkMLuVys"
      }
    },
    {
      "cell_type": "code",
      "source": [
        "# Write code here\n",
        "#enter how many terms you want in the sequence.\n",
        "nums = int(input('Total numbers u want in this series: '))\n",
        "\n",
        "#initialize the first two terms of the sequence\n",
        "a=int(input('enter first number : '))\n",
        "b=int(input('enter second number : '))\n",
        "print(a ,end =' ')\n",
        "print(b , end = \" \")\n",
        "i = 0\n",
        "\n",
        "#Use a while loop to generate the remaining terms of the sequence.\n",
        "while i < (nums-2):\n",
        "  c = a + b\n",
        "  print(c , end = ' ')\n",
        "  a = b\n",
        "  b = c\n",
        "  i +=1"
      ],
      "metadata": {
        "id": "sZhucS5rwLk0",
        "colab": {
          "base_uri": "https://localhost:8080/"
        },
        "outputId": "66696f85-295d-4305-a8e9-b7b613bae317"
      },
      "execution_count": 84,
      "outputs": [
        {
          "output_type": "stream",
          "name": "stdout",
          "text": [
            "Total numbers u want in this series: 8\n",
            "enter first number : 1\n",
            "enter second number : 2\n",
            "1 2 3 5 8 13 21 34 "
          ]
        }
      ]
    },
    {
      "cell_type": "markdown",
      "source": [
        "**Instructions:**\n",
        "\n",
        "1. First, enter how many terms you want in the sequence.\n",
        "2. Then, initialize the first two terms of the sequence.\n",
        "3. Use a while loop to generate the remaining terms of the sequence.\n",
        "4. Finally, print the sequence."
      ],
      "metadata": {
        "id": "6BJVP9bzwLNE"
      }
    },
    {
      "cell_type": "markdown",
      "source": [
        "## **Counting the Digit**\n",
        "\n",
        "You have been given a task to write a Python program that counts the number of times a specific digit appears in a range of numbers. You need to use a for loop to iterate over the range of numbers, and a while loop to check each digit in the number."
      ],
      "metadata": {
        "id": "bxxR7TtBugpK"
      }
    },
    {
      "cell_type": "markdown",
      "source": [
        "Example:\n",
        "\n",
        "* Enter start number: 100\n",
        "* Enter end number: 150\n",
        "* Enter digit to count: 5\n",
        "* The digit 5 appears 6 times between 100 and 150.\n"
      ],
      "metadata": {
        "id": "-oo68QaIdoL6"
      }
    },
    {
      "cell_type": "code",
      "source": [
        "# Write code here\n",
        "#input two numbers as the range (start and stop)\n",
        "start = int(input('Enter start number: '))\n",
        "stop = int(input('Enter end number: '))\n",
        "digit = int(input('Enter digit to count: '))\n",
        "count = 0\n",
        "\n",
        "#iteration\n",
        "for i in range(start , stop + 1):\n",
        "  while i > 0 :\n",
        "    rem = i % 10\n",
        "    if rem == digit :\n",
        "      count += 1\n",
        "    i = i // 10\n",
        "\n",
        "#printing result\n",
        "print(f'The digit {digit} appears {count} times between {start} and {stop}')"
      ],
      "metadata": {
        "id": "uhS0_Btxc59A",
        "colab": {
          "base_uri": "https://localhost:8080/"
        },
        "outputId": "72f596d8-d726-4538-ab41-c02ecc2b0bca"
      },
      "execution_count": 85,
      "outputs": [
        {
          "output_type": "stream",
          "name": "stdout",
          "text": [
            "Enter start number: 100\n",
            "Enter end number: 150\n",
            "Enter digit to count: 5\n",
            "The digit 5 appears 6 times between 100 and 150\n"
          ]
        }
      ]
    },
    {
      "cell_type": "markdown",
      "source": [
        "**Instructions:**\n",
        "\n",
        "1. First, input two numbers as the range (start and end) between which the program should count the occurrence of a digit.\n",
        "2. Then, input the digit that needs to be counted.\n",
        "3. Initialize a counter variable to keep track of the number of occurrences of the digit.\n",
        "4. Use a for loop to iterate over the range of numbers between the start and end values (inclusive).\n",
        "5. Within the for loop, use a while loop to check each digit in the current number. If the digit matches the digit to be counted, increment the counter variable.\n",
        "6. After the for loop completes, print the total count of the digit that was entered by the user."
      ],
      "metadata": {
        "id": "o9NtECV_c8vr"
      }
    },
    {
      "cell_type": "markdown",
      "source": [
        "# **Custom Functions in Python**"
      ],
      "metadata": {
        "id": "gjRKFGWFIrPu"
      }
    },
    {
      "cell_type": "markdown",
      "source": [
        "## **Building a Calculator**\n",
        "\n",
        "\n",
        "In this activity, we will create a custom function in Python to build a calculator that can perform basic arithmetic operations such as addition, subtraction, multiplication, and division."
      ],
      "metadata": {
        "id": "5oJRi3Mv1MuD"
      }
    },
    {
      "cell_type": "markdown",
      "source": [
        "**💻 Code:**"
      ],
      "metadata": {
        "id": "etkfY4lA8iRg"
      }
    },
    {
      "cell_type": "code",
      "execution_count": 86,
      "metadata": {
        "id": "L5nnlASM1JfV"
      },
      "outputs": [],
      "source": [
        "# Define a function called calculator that takes three arguments: num1, num2, and operation\n",
        "def calculator(num1,num2,operation):\n",
        "  if operation == '+':\n",
        "    result = num1 + num2\n",
        "  elif operation == '-':\n",
        "    result = num1 - num2\n",
        "  elif operation == '*':\n",
        "    result = num1 * num2\n",
        "  elif operation == '/':\n",
        "    result = num1 / num2\n",
        "  else:\n",
        "    result = 'Invalid operation'\n",
        "\n",
        "  return result"
      ]
    },
    {
      "cell_type": "markdown",
      "source": [
        "**🧪 Test Code:**"
      ],
      "metadata": {
        "id": "OXMHdeOH9EuG"
      }
    },
    {
      "cell_type": "code",
      "source": [
        "# Test the calculator function\n",
        "calculator(8,5,'+')"
      ],
      "metadata": {
        "id": "woikfzcB1j-S",
        "colab": {
          "base_uri": "https://localhost:8080/"
        },
        "outputId": "d5fe4571-9c76-4b9b-a550-282956fc27cb"
      },
      "execution_count": 87,
      "outputs": [
        {
          "output_type": "execute_result",
          "data": {
            "text/plain": [
              "13"
            ]
          },
          "metadata": {},
          "execution_count": 87
        }
      ]
    },
    {
      "cell_type": "markdown",
      "source": [
        "**Instructions:**\n",
        "\n",
        "1. Define a function called calculator that takes three arguments: num1, num2, and operation.\n",
        "2. In the function, use an if-else statement to determine the arithmetic operation to perform based on the value of operation.\n",
        "3. If operation is '+', return the sum of num1 and num2.\n",
        "4. If operation is '-', return the difference between num1 and num2.\n",
        "5. If operation is '*', return the product of num1 and num2.\n",
        "6. If operation is '/', return the quotient of num1 and num2.\n",
        "7. If operation is not one of the four valid arithmetic operations, return the string \"Invalid operation\".\n",
        "7. Test your function by calling it with different values for num1, num2, and operation."
      ],
      "metadata": {
        "id": "K8ncM2pa1Ttz"
      }
    },
    {
      "cell_type": "markdown",
      "source": [
        "## **Dice Rolling** 🎲\n",
        "\n",
        "Roll a dice and display the result. 🎲"
      ],
      "metadata": {
        "id": "bFFQSaSN3ymq"
      }
    },
    {
      "cell_type": "markdown",
      "source": [
        "**What is the random module?**\n",
        "\n",
        "The random module is a built-in Python module that provides a suite of functions for generating random numbers and sequences. This module is often used in applications where randomization is important, such as games, simulations, and cryptography.\n",
        "\n",
        "You do not need to worry much about this as you will be learning about these modules and functions in the upcoming classes."
      ],
      "metadata": {
        "id": "dld5FXtd7AnL"
      }
    },
    {
      "cell_type": "code",
      "source": [
        "# Define a function for roll a dice\n",
        "import random\n",
        "\n",
        "def roll_dice():\n",
        "\n",
        "  num = random.randint(1,6)\n",
        "  return num"
      ],
      "metadata": {
        "id": "j01aXmAMTaEf"
      },
      "execution_count": 88,
      "outputs": []
    },
    {
      "cell_type": "code",
      "source": [
        "# Roll the dice and print the result\n",
        "num = roll_dice()\n",
        "print(\"The rolled number is \", num)"
      ],
      "metadata": {
        "colab": {
          "base_uri": "https://localhost:8080/"
        },
        "id": "pZKV23toThux",
        "outputId": "009dc5a7-af50-49c4-a187-4f7060b6b883"
      },
      "execution_count": 89,
      "outputs": [
        {
          "output_type": "stream",
          "name": "stdout",
          "text": [
            "The rolled number is  4\n"
          ]
        }
      ]
    },
    {
      "cell_type": "markdown",
      "source": [
        "**Instructions:**\n",
        "\n",
        "1. The random module shoud be imported to generate a random number for the dice roll.\n",
        "2. roll_dice() is defined as a custom function that generates a random number between 1 and 6.\n",
        "3. The function returns the result of the dice roll.\n",
        "4. The result variable is assigned to the return value of the roll_dice() function.\n",
        "5. The result is printed using a formatted string."
      ],
      "metadata": {
        "id": "opLb4qu54RU7"
      }
    },
    {
      "cell_type": "markdown",
      "source": [
        "## **Celsius to Fahrenheit Converter**\n",
        "\n",
        "Create a custom function that takes in a temperature in Celsius and returns the temperature in Fahrenheit.\n",
        "\n",
        "**For example**: If the input temperature is 20 degrees Celsius, the output temperature should be 68 degrees Fahrenheit.\n"
      ],
      "metadata": {
        "id": "XB3M38js4r8r"
      }
    },
    {
      "cell_type": "markdown",
      "source": [
        "💻 Code:"
      ],
      "metadata": {
        "id": "LVMw5sDQ8elX"
      }
    },
    {
      "cell_type": "code",
      "source": [
        "# Define a function to convert celsius to fahrenheit\n",
        "def converter(temp):\n",
        "  result =  (temp * 9/5) + 32\n",
        "  return result\n"
      ],
      "metadata": {
        "id": "AG3AA-1n4p5r"
      },
      "execution_count": 90,
      "outputs": []
    },
    {
      "cell_type": "markdown",
      "source": [
        "**🧪 Test Code:**"
      ],
      "metadata": {
        "id": "KDtKd97y9CSH"
      }
    },
    {
      "cell_type": "code",
      "source": [
        "# Example usage\n",
        "temp = 20\n",
        "print(converter(temp))"
      ],
      "metadata": {
        "id": "T_sVClYZ5LT6",
        "colab": {
          "base_uri": "https://localhost:8080/"
        },
        "outputId": "81e1ad99-7274-4913-f4e2-d63674addd4b"
      },
      "execution_count": 91,
      "outputs": [
        {
          "output_type": "stream",
          "name": "stdout",
          "text": [
            "68.0\n"
          ]
        }
      ]
    },
    {
      "cell_type": "markdown",
      "source": [
        "Output:\n",
        "\n",
        "If the input temperature is 20 degrees Celsius, the output temperature should be 68 degrees Fahrenheit."
      ],
      "metadata": {
        "id": "grA9fcVA5EDC"
      }
    },
    {
      "cell_type": "markdown",
      "source": [
        "**Instructions:**\n",
        "\n",
        "To create this function, you can use the formula to convert the temperature in Celsius to Fahrenheit. The formula for converting Celsius to Fahrenheit is F = (C * 9/5) + 32, where F is the temperature in Fahrenheit and C is the temperature in Celsius."
      ],
      "metadata": {
        "id": "Iz8PDswd5Of5"
      }
    },
    {
      "cell_type": "markdown",
      "source": [
        "## **Sum odd Numbers** ➖\n",
        "\n",
        "In this activity, you will create a custom function in Python that takes a list of integers as an argument and returns the sum of all odd numbers in the list."
      ],
      "metadata": {
        "id": "f38kTkX-6DR4"
      }
    },
    {
      "cell_type": "markdown",
      "source": [
        "💻 Code:"
      ],
      "metadata": {
        "id": "_M8e-8p36M1J"
      }
    },
    {
      "cell_type": "code",
      "source": [
        "# define sum_odd custom function\n",
        "def sum_odd(list):\n",
        "  odd = []\n",
        "  for i in list:\n",
        "    if i%2!=0:\n",
        "      odd.append(i)\n",
        "\n",
        "  return sum(odd)\n"
      ],
      "metadata": {
        "id": "BfJMZFk75GP3"
      },
      "execution_count": 92,
      "outputs": []
    },
    {
      "cell_type": "markdown",
      "source": [
        "**🧪 Test Code:**"
      ],
      "metadata": {
        "id": "6UGSjTv75-Qw"
      }
    },
    {
      "cell_type": "code",
      "source": [
        "# test here\n",
        "list = [1, 2, 3, 4, 5, 6]\n",
        "sum_odd(list)"
      ],
      "metadata": {
        "id": "7yyxAwOY5_fS",
        "colab": {
          "base_uri": "https://localhost:8080/"
        },
        "outputId": "b68a7505-6ae9-408a-cc7d-9b0d648863a0"
      },
      "execution_count": 93,
      "outputs": [
        {
          "output_type": "execute_result",
          "data": {
            "text/plain": [
              "9"
            ]
          },
          "metadata": {},
          "execution_count": 93
        }
      ]
    },
    {
      "cell_type": "markdown",
      "source": [
        "🤖 Output should be in format:\n",
        "\n",
        "If the input is [1, 2, 3, 4, 5, 6], then the output should be 9"
      ],
      "metadata": {
        "id": "Pc5U7agP6_uJ"
      }
    },
    {
      "cell_type": "markdown",
      "source": [
        "**Instructions:**\n",
        "\n",
        "To create the sum_odd function, follow these steps:\n",
        "\n",
        "1. Define a function named sum_odd that takes one argument, lst.\n",
        "2. Inside the function, create a variable named result and set its value to 0.\n",
        "3. Use a for loop to iterate through each element in lst.\n",
        "4. For each element, check if it is odd by using the modulus operator (%). If the result not is 0, add the element to result.\n",
        "5. After the loop, return result."
      ],
      "metadata": {
        "id": "NJFkJnem6Yyq"
      }
    },
    {
      "cell_type": "markdown",
      "source": [
        "# **Advanced Looping Concepts**"
      ],
      "metadata": {
        "id": "W80MJEP4IrWl"
      }
    },
    {
      "cell_type": "markdown",
      "source": [
        "## **Lambda Functions**\n",
        "\n",
        "🧑‍💻 You are working as a Python developer for a startup company that has just received a project from a client. The client wants a program that can perform certain operations on lists using lambda functions. Your manager has assigned you the task of finding the sum of squared odd numbers from the list.\n",
        "\n",
        "👉 Hint: You have to use filter, map and reduce functions to get the task done."
      ],
      "metadata": {
        "id": "q02nU6G56Gxh"
      }
    },
    {
      "cell_type": "code",
      "execution_count": 130,
      "metadata": {
        "id": "zbzwgW7357yh",
        "colab": {
          "base_uri": "https://localhost:8080/"
        },
        "outputId": "ca8931fe-c841-4de3-dfbf-c076e81511a5"
      },
      "outputs": [
        {
          "output_type": "stream",
          "name": "stdout",
          "text": [
            "165\n"
          ]
        }
      ],
      "source": [
        "# Import reduce from functools module\n",
        "from functools import reduce\n",
        "\n",
        "# Create a list of numbers from 1 to 10\n",
        "numbers = [i for i in range(1, 11)]\n",
        "\n",
        "\n",
        "# Write your code here\n",
        "odd = [x for x in numbers if x % 2 != 0]\n",
        "square = [x ** 2 for x in odd]\n",
        "sum =  reduce(lambda x , y: x+y , square)\n",
        "print(sum)"
      ]
    },
    {
      "cell_type": "markdown",
      "source": [
        "**Instructions:**\n",
        "\n",
        "1. Begin by creating a list of numbers from 1 to 10.\n",
        "2. Use a lambda function to filter out all even numbers from the list.\n",
        "3. Use a lambda function to square all the remaining odd numbers in the filtered list.\n",
        "4. Use a lambda function to find the sum of all the squared odd numbers in the list.\n",
        "5. Print the final result.\n",
        "\n",
        "**The reduce(fun,seq) function is used to apply a particular function passed in its argument to all of the list elements mentioned in the sequence passed along.This function is defined in “functools” module.**\n",
        "No need to worry if you haven't used this function before. You can get some additional information about the function here: https://www.geeksforgeeks.org/reduce-in-python/"
      ],
      "metadata": {
        "id": "Lp9tch5h6Vw6"
      }
    },
    {
      "cell_type": "markdown",
      "source": [
        "## **Pizza Toppings**\n",
        "\n",
        "🍕🍔 You have two lists, one containing pizza toppings and the other containing burger toppings. You need to create a new list that contains all the toppings from both the pizza and burger toppings lists, but only if they have more than 5 characters in their name.\n",
        "\n",
        "Can you write the code to create a new list that contains all the toppings from both the pizza and burger toppings lists, but only if they have more than 5 characters in their name using list comprehension only?\n",
        "\n",
        "👉 Hint: You can use a conditional statement to check the length of each topping's name."
      ],
      "metadata": {
        "id": "26lox7n97hNf"
      }
    },
    {
      "cell_type": "code",
      "source": [
        "# Here are the example lists of toppings\n",
        "pizza_toppings = ['mushroom', 'olive', 'tomato', 'pepperoni', 'onion', 'garlic']\n",
        "burger_toppings = ['lettuce', 'cheese', 'mayonnaise', 'bacon', 'pickle', 'avocado']\n",
        "\n",
        "# Write your code here\n",
        "list1 = [topping for topping in (pizza_toppings + burger_toppings) if len(topping)>5]\n",
        "print(list1)"
      ],
      "metadata": {
        "id": "_L80Blvu6beB",
        "colab": {
          "base_uri": "https://localhost:8080/"
        },
        "outputId": "540081b2-95e7-4e1e-d3d1-06f938e8012a"
      },
      "execution_count": 100,
      "outputs": [
        {
          "output_type": "stream",
          "name": "stdout",
          "text": [
            "['mushroom', 'tomato', 'pepperoni', 'garlic', 'lettuce', 'cheese', 'mayonnaise', 'pickle', 'avocado']\n"
          ]
        }
      ]
    },
    {
      "cell_type": "markdown",
      "source": [
        "**Instructions:**\n",
        "\n",
        "1. Create two lists of toppings, one for pizza and one for burgers.\n",
        "\n",
        "2. Use list comprehension to iterate over both the pizza and burger toppings lists, and combine them into a new list.\n",
        "\n",
        "3. Use a conditional statement to check the length of each topping's name, and only include it in the new list if it has more than 5 characters."
      ],
      "metadata": {
        "id": "YUua3mlb7u-2"
      }
    },
    {
      "cell_type": "markdown",
      "source": [
        "## **Sales Data**\n",
        "\n",
        "🌎🛍️ Suppose you work for a company that sells products in different countries. You have been given two lists: one containing the names of the countries where the company sells its products, and the other containing the sales data for each country. Your task is to create a dictionary where the keys are the country names, and the values are the corresponding sales data. However, the sales data should only include values that are greater than 1000. You are not allowed to use any loops, and must use list comprehension to solve the problem.\n",
        "\n",
        "Can you write the code to create the desired dictionary using list comprehension?\n",
        "\n",
        "👉 Hint: You can use zip function to create pairs of country and sales data from the two lists."
      ],
      "metadata": {
        "id": "RzZvjLHR75SA"
      }
    },
    {
      "cell_type": "code",
      "source": [
        "# Here are the two lists\n",
        "countries = [\"USA\", \"Canada\", \"Mexico\", \"Brazil\", \"UK\", \"France\", \"Germany\", \"China\", \"India\"]\n",
        "sales = [2500, 300, 1200, 800, 500, 2000, 4000, 1000, 1500]\n",
        "\n",
        "# Write your code here\n",
        "dic = [{cn:s} for cn,s in zip(countries,sales) if s>1000]\n",
        "print(dic)\n"
      ],
      "metadata": {
        "id": "ih8qq03B70j-",
        "colab": {
          "base_uri": "https://localhost:8080/"
        },
        "outputId": "57e2dbf7-79fe-4018-f65a-68379993bd31"
      },
      "execution_count": 101,
      "outputs": [
        {
          "output_type": "stream",
          "name": "stdout",
          "text": [
            "[{'USA': 2500}, {'Mexico': 1200}, {'France': 2000}, {'Germany': 4000}, {'India': 1500}]\n"
          ]
        }
      ]
    },
    {
      "cell_type": "markdown",
      "source": [
        "**Instructions:**\n",
        "\n",
        "1. Use zip function to create a list of pairs, where each pair contains a country name and its corresponding sales data.\n",
        "\n",
        "2. Use list comprehension to create a dictionary where the keys are the country names and the values are the sales data. However, only include sales data that are greater than 1000."
      ],
      "metadata": {
        "id": "xVqhKQNM8GXP"
      }
    },
    {
      "cell_type": "markdown",
      "source": [
        "## **Stock Filtering**\n",
        "\n",
        "📊📈 Suppose you are working for a company that deals with financial data. You have been given a list of dictionaries, where each dictionary contains the following information about a stock: name, ticker symbol, price, and percentage change in price. Your task is to create a new list of dictionaries, where each dictionary contains only the name and price of the stock, but only for those stocks where the price is greater than 100 and the percentage change is positive. You must use list comprehension to solve the problem.\n",
        "\n",
        "Can you write the code to create the desired list of dictionaries using list comprehension?\n",
        "\n",
        "👉 Hint: You can use conditional statements to check if the price is greater than 100 and the percentage change is positive in the list comprehension."
      ],
      "metadata": {
        "id": "sBvyWOQv8KqP"
      }
    },
    {
      "cell_type": "code",
      "source": [
        "# Here is an example of the list of dictionaries\n",
        "stocks = [\n",
        "    {'name': 'Apple Inc.', 'ticker': 'AAPL', 'price': 120.0, 'change': 0.05},\n",
        "    {'name': 'Microsoft Corporation', 'ticker': 'MSFT', 'price': 95.0, 'change': -0.02},\n",
        "    {'name': 'Amazon.com, Inc.', 'ticker': 'AMZN', 'price': 250.0, 'change': 0.1},\n",
        "    {'name': 'Alphabet Inc.', 'ticker': 'GOOGL', 'price': 110.0, 'change': 0.02},\n",
        "    {'name': 'Facebook, Inc.', 'ticker': 'FB', 'price': 80.0, 'change': 0.03}\n",
        "]\n",
        "\n",
        "# Write your code here\n",
        "\n",
        "#Createa a list of dictionaries where there is only the name and price.\n",
        "new_stocks= [{'name':stock['name'], 'price':stock['price']} for stock in stocks if stock['price']>100 and stock['change'] > 0]\n",
        "new_stocks\n"
      ],
      "metadata": {
        "id": "pT6d0-9M8JJ8",
        "colab": {
          "base_uri": "https://localhost:8080/"
        },
        "outputId": "284ef4fb-39ea-4a6d-9c1f-6ce4a89d7781"
      },
      "execution_count": 102,
      "outputs": [
        {
          "output_type": "execute_result",
          "data": {
            "text/plain": [
              "[{'name': 'Apple Inc.', 'price': 120.0},\n",
              " {'name': 'Amazon.com, Inc.', 'price': 250.0},\n",
              " {'name': 'Alphabet Inc.', 'price': 110.0}]"
            ]
          },
          "metadata": {},
          "execution_count": 102
        }
      ]
    },
    {
      "cell_type": "markdown",
      "source": [
        "**Instructions:**\n",
        "\n",
        "1. Use list comprehension to filter the stocks where the price is greater than 100 and the percentage change is positive.\n",
        "\n",
        "2. Use list comprehension to create a new list of dictionaries where each dictionary contains only the name and price of the stock."
      ],
      "metadata": {
        "id": "vaB7yY3q8ctY"
      }
    },
    {
      "cell_type": "markdown",
      "source": [
        "## **Duplicate Songs**\n",
        "\n",
        "🎵🎶 You have a list of songs that you like to listen to, but you notice that some of the songs have duplicate names. You want to create a new set that contains the unique names of all the songs and keep the songs whose name doesn't start with \"S\" and doesn't end with \"n\" in your list using set comprehension.\n",
        "\n",
        "Can you write the code to create a new set that contains the unique names of all the songs in your list using set comprehension only?\n",
        "\n",
        "👉 Hint: Set comprehension is similar to list comprehension, but with curly braces {} instead of square brackets []."
      ],
      "metadata": {
        "id": "Gm_824J28kwx"
      }
    },
    {
      "cell_type": "code",
      "source": [
        "# Here's an example list of songs\n",
        "songs = ['Bohemian Rhapsody', 'Stairway to Heaven', 'Bohemian Rhapsody', 'Hotel California', 'November Rain', 'Stairway to Heaven', 'Sweet Child O\\' Mine']\n",
        "\n",
        "# Write your code here\n",
        "set_of_songs = {song for song in songs if song[0] !=\"S\" and song[-1] != 'n'}\n",
        "print(set_of_songs)\n"
      ],
      "metadata": {
        "id": "1RR_E-kM8hRt",
        "colab": {
          "base_uri": "https://localhost:8080/"
        },
        "outputId": "65838700-f38c-43c1-e0aa-a503bb4acc45"
      },
      "execution_count": 103,
      "outputs": [
        {
          "output_type": "stream",
          "name": "stdout",
          "text": [
            "{'Bohemian Rhapsody', 'Hotel California'}\n"
          ]
        }
      ]
    },
    {
      "cell_type": "markdown",
      "source": [
        "**Instructions:**\n",
        "\n",
        "1. Create a list of songs that contains duplicate names.\n",
        "\n",
        "2. Use set comprehension to iterate over the list of songs and create a new set that contains only the unique names of the songs.\n",
        "\n",
        "3. Include a condition in the set comprehension to filter out songs whose name starts with \"S\" and ends with \"n\"."
      ],
      "metadata": {
        "id": "Jqpuv0Kh8t1x"
      }
    },
    {
      "cell_type": "markdown",
      "source": [
        "# **OOPs in Python**"
      ],
      "metadata": {
        "id": "HC2V6Rf0Ircs"
      }
    },
    {
      "cell_type": "markdown",
      "source": [
        "## **Building a Simple Calculator** 🧮🔢\n",
        "\n",
        "\n",
        "In this activity, you will build a simple calculator program in Python using Object-Oriented Programming (OOP) concepts."
      ],
      "metadata": {
        "id": "wi0GGVc-l-iH"
      }
    },
    {
      "cell_type": "code",
      "source": [
        "# Define a simple calculator class\n",
        "class Calculator:\n",
        "  def __init__(self):\n",
        "    self.result = 0\n",
        "  def add(self,num1,num2):\n",
        "    self.result = num1 + num2\n",
        "    return self.result\n",
        "\n",
        "  def subtract(self,num1,num2):\n",
        "    self.result = num1 - num2\n",
        "    return self.result\n",
        "\n",
        "  def multiply(self,num1,num2):\n",
        "    self.result=num1 * num2\n",
        "    return self.result\n",
        "\n",
        "  def divide(self,num1,num2):\n",
        "    if num2 == 0:\n",
        "      raise valueError(\"Cannot divide by zero\")\n",
        "    self.result = num1 / num2\n",
        "    return self.result"
      ],
      "metadata": {
        "id": "zphxebyom5IQ"
      },
      "execution_count": 105,
      "outputs": []
    },
    {
      "cell_type": "code",
      "source": [
        "# Test Case\n",
        "# Test Case\n",
        "C1 = Calculator()\n",
        "\n",
        "\n",
        "print(C1.add(60,15))\n",
        "print(C1.subtract(60,15))\n",
        "print(C1.multiply(60,15))\n",
        "print(C1.divide(60,15))"
      ],
      "metadata": {
        "id": "rKnQSAlpsdx0",
        "colab": {
          "base_uri": "https://localhost:8080/"
        },
        "outputId": "099062b7-ae62-4064-bdac-703f3d31d16d"
      },
      "execution_count": 106,
      "outputs": [
        {
          "output_type": "stream",
          "name": "stdout",
          "text": [
            "75\n",
            "45\n",
            "900\n",
            "4.0\n"
          ]
        }
      ]
    },
    {
      "cell_type": "markdown",
      "source": [
        "👉 **Instructions:**\n",
        "\n",
        "1. Start by defining a class called Calculator.\n",
        "2. Define four methods within the class: add, subtract, multiply, and divide.\n",
        "3. Each method should take two arguments: num1 and num2.\n",
        "4. The add method should return the sum of num1 and num2.\n",
        "5. The subtract method should return the difference between num1 and num2.\n",
        "6. The multiply method should return the product of num1 and num2.\n",
        "7. The divide method should return the result of dividing num1 by num2. However, if num2 is zero, the method should raise a ValueError with the message \"Cannot divide by zero\"."
      ],
      "metadata": {
        "id": "QvuzAZb-m8EG"
      }
    },
    {
      "cell_type": "markdown",
      "source": [
        "## 🏀**Basketball Game Score Tracker**📈\n",
        "\n",
        "Create a class that will keep track of the score of a basketball game. The class should have methods for updating the score and printing the current score."
      ],
      "metadata": {
        "id": "3IigXP8Ir4Yq"
      }
    },
    {
      "cell_type": "code",
      "source": [
        "# Create BasketballGame class\n",
        "class BasketballGame:\n",
        "  def __init__(self):\n",
        "    self.classA_score = 0\n",
        "    self.classB_score = 0\n",
        "\n",
        "  def Update_ClassA(self,score):\n",
        "    self.classA_score += score\n",
        "    return self.classA_score\n",
        "\n",
        "  def Update_ClassB(self,score):\n",
        "    self.classB_score += score\n",
        "    return self.classB_score\n",
        "\n",
        "  def Current_Score(self):\n",
        "    return f\"Class A score:{self.classA_score}\\nClass B Score:{self.classB_score}\""
      ],
      "metadata": {
        "id": "op236YgFsjA7"
      },
      "execution_count": 107,
      "outputs": []
    },
    {
      "cell_type": "code",
      "source": [
        "# Example Usage:\n",
        "B1 = BasketballGame()\n",
        "print(\"Class A scores:\")\n",
        "print(B1.Update_ClassA(90))\n",
        "print(B1.Update_ClassA(85))\n",
        "print(B1.Update_ClassA(80))\n",
        "print(\"Class B scores:\")\n",
        "print(B1.Update_ClassB(95))\n",
        "print(B1.Update_ClassB(80))\n",
        "print(B1.Update_ClassB(90))\n",
        "print(\"Final scores:\")\n",
        "print(B1.Current_Score())"
      ],
      "metadata": {
        "id": "KSatdMIbsuI7",
        "colab": {
          "base_uri": "https://localhost:8080/"
        },
        "outputId": "cfead7a2-254d-4953-d1fe-60c49da4aa35"
      },
      "execution_count": 108,
      "outputs": [
        {
          "output_type": "stream",
          "name": "stdout",
          "text": [
            "Class A scores:\n",
            "90\n",
            "175\n",
            "255\n",
            "Class B scores:\n",
            "95\n",
            "175\n",
            "265\n",
            "Final scores:\n",
            "Class A score:255\n",
            "Class B Score:265\n"
          ]
        }
      ]
    },
    {
      "cell_type": "markdown",
      "source": [
        "👉 **Instructions:**\n",
        "\n",
        "1. Start by creating a class called \"BasketballGame\".\n",
        "2. In the class constructor, initialize the score for both teams to 0.\n",
        "3. Add methods to the class for updating the score for each team. These methods should take in a number of points and add that to the appropriate team's score.\n",
        "4. Add a method to the class for printing the current score. This method should print out the score for both teams.\n",
        "5. Test your code by creating an instance of the \"BasketballGame\" class, updating the score for each team, and printing the current score."
      ],
      "metadata": {
        "id": "klxR5WZOtXlL"
      }
    },
    {
      "cell_type": "markdown",
      "source": [
        "## 🎨 **Paint Brush Class** 🖌️\n",
        "\n",
        "Create a Python class for a paint brush that has the following properties:\n",
        "\n",
        "* Size (small, medium, or large)\n",
        "* Color (red, blue, green, or yellow)\n",
        "* Brand (Winsor & Newton, Liquitex, or Grumbacher)\n",
        "* Type (round or flat)\n"
      ],
      "metadata": {
        "id": "VwvhqW59s8-7"
      }
    },
    {
      "cell_type": "code",
      "source": [
        "# Define PaintBrush Class\n",
        "class PaintBrush:\n",
        "  def __init__(self,size, color, brand, brush_type):\n",
        "    self.size = size\n",
        "    self.color =  color\n",
        "    self.brand = brand\n",
        "    self.brush_type = brush_type\n",
        "\n",
        "  def Paint(self):\n",
        "    return f\"Size of the brush : {self.size}\\nColour of the brush : {self.color}\\nBrand of the brush:{self.brand}\\nBrush type is :{ self.brush_type} \""
      ],
      "metadata": {
        "id": "YZ8JOqPotDM7"
      },
      "execution_count": 110,
      "outputs": []
    },
    {
      "cell_type": "markdown",
      "source": [
        "Now, create an instance of the PaintBrush class with the following properties:\n",
        "\n",
        "* Size: medium\n",
        "* Color: red\n",
        "* Brand: Winsor & Newton\n",
        "* Type: round\n",
        "* Call the paint() method on the instance to simulate painting with the brush."
      ],
      "metadata": {
        "id": "XA4HMkLatMrq"
      }
    },
    {
      "cell_type": "code",
      "source": [
        "# Test Case\n",
        "# Test Case\n",
        "#creating object\n",
        "P1 = PaintBrush(\"medium\",\"red\",\"Winsor & Newton\",\"round\")\n",
        "print(P1.Paint())"
      ],
      "metadata": {
        "id": "jMo7hRI4tQhU",
        "colab": {
          "base_uri": "https://localhost:8080/"
        },
        "outputId": "1b111b3b-3fcb-4b44-c620-0f1404d883c4"
      },
      "execution_count": 111,
      "outputs": [
        {
          "output_type": "stream",
          "name": "stdout",
          "text": [
            "Size of the brush : medium\n",
            "Colour of the brush : red\n",
            "Brand of the brush:Winsor & Newton\n",
            "Brush type is :round \n"
          ]
        }
      ]
    },
    {
      "cell_type": "markdown",
      "source": [
        "👉 **Instructions:**\n",
        "\n",
        "1. Start by defining the class using the keyword class, followed by the name of the class (in this case, \"PaintBrush\").\n",
        "\n",
        "2. Within the class, define the __init__ method to initialize the properties of the paint brush. The method should take four parameters: size, color, brand, and brush_type. Use the self keyword to refer to the instance of the class.\n",
        "\n",
        "3. Inside the __init__ method, assign the values of the parameters to instance variables using the self keyword.\n",
        "\n",
        "4. Define a method named paint that prints out a message indicating the brush size, color, brand, and type.\n",
        "\n",
        "5. Create an instance of the PaintBrush class by calling the class with the required parameters.\n",
        "\n",
        "6. Call the paint() method on the instance to simulate painting with the brush."
      ],
      "metadata": {
        "id": "UJSmIs1DtknS"
      }
    },
    {
      "cell_type": "markdown",
      "source": [
        "## **Bank Account Management System** 💻🏦\n",
        "\n",
        "Create a Bank Account Management System using Object-Oriented Programming (OOPs) in Python. The system should allow users to create and manage bank accounts, deposit and withdraw funds, and view account details."
      ],
      "metadata": {
        "id": "ARKS5oEitsVt"
      }
    },
    {
      "cell_type": "code",
      "source": [
        "# Define a BankAccount class\n",
        "class BankAccount :\n",
        "  def __init__(self,name, account_number, balance):\n",
        "    self.name = name\n",
        "    self.account_number = account_number\n",
        "    self.balance= balance\n",
        "\n",
        "  def deposit(self , money):\n",
        "    self.balance += money\n",
        "    return f\"Amount {money} has been added.Your new balance is {self.balance}\"\n",
        "\n",
        "  def withdraw(self,withdrawal) :\n",
        "    if self.balance >= withdrawal:\n",
        "      self.balance -= withdrawal\n",
        "      return f\"Amount {withdrawal} has been deducted. Your new balance is {self.balance}\"\n",
        "    else :\n",
        "      return f\"Account has insufficient balance of {self.balance}. We cant withdraw {withdraawal}\"\n",
        "\n",
        "  def account_details(self):\n",
        "    print(\"Account Details:\")\n",
        "    return f'name :{self.name}\\naccount_number:{self.account_number}\\nbalance:{self.balance}'"
      ],
      "metadata": {
        "id": "J3WL7qYjvIml"
      },
      "execution_count": 112,
      "outputs": []
    },
    {
      "cell_type": "code",
      "source": [
        "# Test Case\n",
        "B1 = BankAccount('Abhishek' , 3265 , 5000)\n",
        "print(B1.account_details())\n",
        "print(\"-------------\")\n",
        "print(B1.withdraw(2000))\n",
        "print(\"-------------\")\n",
        "print(B1.deposit(2000))"
      ],
      "metadata": {
        "id": "mihs9I58w0AB",
        "colab": {
          "base_uri": "https://localhost:8080/"
        },
        "outputId": "cddb02f2-490a-4781-9b50-536034ad7681"
      },
      "execution_count": 115,
      "outputs": [
        {
          "output_type": "stream",
          "name": "stdout",
          "text": [
            "Account Details:\n",
            "name :Abhishek\n",
            "account_number:3265\n",
            "balance:5000\n",
            "-------------\n",
            "Amount 2000 has been deducted. Your new balance is 3000\n",
            "-------------\n",
            "Amount 2000 has been added.Your new balance is 5000\n"
          ]
        }
      ]
    },
    {
      "cell_type": "markdown",
      "source": [
        "👉 **Instructions:**\n",
        "\n",
        "1. Define a BankAccount class with an init() method that takes the name, account_number, and balance as parameters and initializes the instance variables.\n",
        "\n",
        "2. Define the deposit() method that takes the amount to be deposited as a parameter and adds it to the balance. Also, print a message with the new balance.\n",
        "\n",
        "3. Define the withdraw() method that takes the amount to be withdrawn as a parameter and checks if the account has sufficient balance. If yes, deduct the amount from the balance and print a message with the new balance. If not, print a message with the current balance.\n",
        "\n",
        "4. Define the account_details() method that prints the name, account number, and balance of the account.\n",
        "\n",
        "5. Create a new instance of the BankAccount class with some initial balance.\n",
        "\n",
        "6. Test the deposit(), withdraw(), and account_details() methods of the BankAccount class by calling them on the instance created in step 5 with some test values."
      ],
      "metadata": {
        "id": "O2GDG6TUvaBF"
      }
    },
    {
      "cell_type": "markdown",
      "source": [
        "# **Exception Handling**"
      ],
      "metadata": {
        "id": "Ym0esuHoIriH"
      }
    },
    {
      "cell_type": "markdown",
      "source": [
        "## **Sum of first n Natural Numbers**\n",
        "\n",
        "💻 Suppose you are working on a project that requires you to write a Python program that calculates the sum of the first n natural numbers. You wrote a program to solve the problem, but the code contains several errors that prevent it from executing properly. ❌\n",
        "\n",
        "Your task is to identify and rectify the errors in the code and write the correct program. 🛠️"
      ],
      "metadata": {
        "id": "7X3Rz0V8HgfP"
      }
    },
    {
      "cell_type": "code",
      "execution_count": 116,
      "metadata": {
        "id": "VWJZF0ssHJMS",
        "colab": {
          "base_uri": "https://localhost:8080/",
          "height": 140
        },
        "outputId": "05ee32da-b20b-4232-ff94-9d8a422b27fe"
      },
      "outputs": [
        {
          "output_type": "error",
          "ename": "SyntaxError",
          "evalue": "ignored",
          "traceback": [
            "\u001b[0;36m  File \u001b[0;32m\"<ipython-input-116-6c0e5d7ae6d8>\"\u001b[0;36m, line \u001b[0;32m6\u001b[0m\n\u001b[0;31m    print(\"The sum of the first\", n, \"natural numbers is\", sum\u001b[0m\n\u001b[0m                                                              ^\u001b[0m\n\u001b[0;31mSyntaxError\u001b[0m\u001b[0;31m:\u001b[0m incomplete input\n"
          ]
        }
      ],
      "source": [
        "# Code with errors\n",
        "n = input(\"Enter a number: \")\n",
        "sum = 0\n",
        "for i in range(0, n+1):\n",
        "  sum = sum + i\n",
        "print(\"The sum of the first\", n, \"natural numbers is\", sum"
      ]
    },
    {
      "cell_type": "code",
      "source": [
        "# Write your code here\n",
        "# Write your code here\n",
        "n = int(input(\"Enter a number: \"))\n",
        "sum = 0\n",
        "for i in range(0, n+1):\n",
        "  sum = sum + i\n",
        "print(\"The sum of the first\", n, \"natural numbers is\", sum)"
      ],
      "metadata": {
        "id": "Gx1ZJKgWLDCf",
        "colab": {
          "base_uri": "https://localhost:8080/"
        },
        "outputId": "ce1e9ed0-03f4-47f4-a609-8848bc198572"
      },
      "execution_count": 117,
      "outputs": [
        {
          "output_type": "stream",
          "name": "stdout",
          "text": [
            "Enter a number: 15\n",
            "The sum of the first 15 natural numbers is 120\n"
          ]
        }
      ]
    },
    {
      "cell_type": "markdown",
      "source": [
        "👉 **Instructions:**\n",
        "\n",
        "1. The input function returns a string, so we need to convert it to an integer using the int() function. 🔢\n",
        "2. In the range() function, we need to provide an integer value for the upper limit. So, we need to convert the input to an integer as well. 🔝\n",
        "3. We need to add 1 to the upper limit in the range() function to include the last number. ➕"
      ],
      "metadata": {
        "id": "MQ1LuqbFIMGp"
      }
    },
    {
      "cell_type": "markdown",
      "source": [
        "## **Average Temperature** 🌡️🌡️\n",
        "\n",
        "You have been given a task to develop a program that calculates the average temperature 🌡️ of a city 🏢 for a given week. You have written a program to solve the problem, but there seems to be some logical errors that are causing the program to output incorrect results. You are provided with two sets of weekly temperatures and need to find the average of each individual week.\n",
        "\n",
        "Your task is to identify and rectify the logical errors in the code and write the correct program."
      ],
      "metadata": {
        "id": "yLGJGYS6I3Wh"
      }
    },
    {
      "cell_type": "code",
      "source": [
        "# Temperature data for the week 1 and week 2\n",
        "temperatures_w1 = [32, 34, 31, 30, 29, 28, 33]\n",
        "temperatures_w2 = [31, 34, 35, 28, 29]\n",
        "\n",
        "# Calculate the sum of all temperatures\n",
        "for temperature in temperatures_w1:\n",
        "  sum = sum + temperature\n",
        "\n",
        "# Calculate the average temperature\n",
        "average = sum / 7\n",
        "\n",
        "# Output the result\n",
        "print(\"The average temperature of the week is\", sum, \"degrees Celsius.\")"
      ],
      "metadata": {
        "id": "g0bm4yDDI2yW",
        "colab": {
          "base_uri": "https://localhost:8080/"
        },
        "outputId": "5bd7f2d2-aea1-4dcc-e032-beb4345e813b"
      },
      "execution_count": 118,
      "outputs": [
        {
          "output_type": "stream",
          "name": "stdout",
          "text": [
            "The average temperature of the week is 337 degrees Celsius.\n"
          ]
        }
      ]
    },
    {
      "cell_type": "code",
      "source": [
        "# Write your code here\n",
        "temperatures_w1 = [32, 34, 31, 30, 29, 28, 33]\n",
        "temperatures_w2 = [31, 34, 35, 28, 29]\n",
        "\n",
        "# Calculate the average temperature of week 1\n",
        "sum_w1 = 0\n",
        "for temperature in temperatures_w1:\n",
        "  sum_w1 += temperature\n",
        "average_w1 = sum_w1 / len(temperatures_w1)\n",
        "\n",
        "# Calculate the average temperature of week 2\n",
        "sum_w2 = 0\n",
        "for temperature in temperatures_w2:\n",
        "  sum_w2 += temperature\n",
        "average_w2 = sum_w2 / len(temperatures_w2)\n",
        "\n",
        "# Output the result\n",
        "print(\"The average temperature of week 1 is\", average_w1, \"degrees Celsius.\")\n",
        "print(\"The average temperature of week 2 is\", average_w2, \"degrees Celsius.\")\n"
      ],
      "metadata": {
        "id": "J5JuV9WqLFX_",
        "colab": {
          "base_uri": "https://localhost:8080/"
        },
        "outputId": "aacca613-4474-4ced-8eaf-10ea5339f85a"
      },
      "execution_count": 119,
      "outputs": [
        {
          "output_type": "stream",
          "name": "stdout",
          "text": [
            "The average temperature of week 1 is 31.0 degrees Celsius.\n",
            "The average temperature of week 2 is 31.4 degrees Celsius.\n"
          ]
        }
      ]
    },
    {
      "cell_type": "markdown",
      "source": [
        "👉 **Instructions:**\n",
        "\n",
        "1. The given temperature list is in celsius and we need to find the average of each individual week.\n",
        "2. While iterating through each temperature we need to initialize a variable to start from zero otherwise it can start from any garbage value.\n",
        "3. Next, find the average by dividing the sum of the temperatures by the length of the temperatures list.\n",
        "4. Print the average temperature of the each week."
      ],
      "metadata": {
        "id": "A101OEJQJ_Tq"
      }
    },
    {
      "cell_type": "markdown",
      "source": [
        "## **Handle that Error!** ❌❌\n",
        "\n",
        "You are developing a Python program that requires user input. You want to make sure that your program doesn't crash due to invalid user input or unexpected errors 🛑. You have heard about exception handling in Python and want to implement it in your program to handle errors gracefully.\n",
        "\n",
        "Your task is to implement exception handling in your program to handle invalid user input and unexpected errors."
      ],
      "metadata": {
        "id": "r04OSlnDLKj3"
      }
    },
    {
      "cell_type": "code",
      "source": [
        "# Code without exception handling\n",
        "num1 = int(input(\"Enter the first number: \"))\n",
        "num2 = int(input(\"Enter the second number: \"))\n",
        "\n",
        "result = num1 / num2\n",
        "\n",
        "print(\"The result is: \", result)"
      ],
      "metadata": {
        "id": "1UPr7gn2KIm_",
        "colab": {
          "base_uri": "https://localhost:8080/"
        },
        "outputId": "1e7db0b7-254a-42d9-dbdb-cac909c1952d"
      },
      "execution_count": 120,
      "outputs": [
        {
          "output_type": "stream",
          "name": "stdout",
          "text": [
            "Enter the first number: 3\n",
            "Enter the second number: 2\n",
            "The result is:  1.5\n"
          ]
        }
      ]
    },
    {
      "cell_type": "code",
      "source": [
        "# Write your code here\n",
        "# code with exception handling\n",
        "try:\n",
        "    num1 = int(input(\"Enter the first number: \"))\n",
        "    num2 = int(input(\"Enter the second number: \"))\n",
        "    result = num1 / num2\n",
        "    print(\"The result is: \", result)\n",
        "\n",
        "except ValueError:\n",
        "    print(\"Invalid input. Please enter a valid integer.\")\n",
        "\n",
        "except ZeroDivisionError:\n",
        "    print(\"Error: Division by zero is not allowed.\")\n",
        "\n",
        "except Exception as e:\n",
        "    print(\"An unexpected error has occurred:\", e)"
      ],
      "metadata": {
        "id": "9X3-V505Lqor",
        "colab": {
          "base_uri": "https://localhost:8080/"
        },
        "outputId": "fa3aeb1f-a2dd-458a-d53d-153de45b1084"
      },
      "execution_count": 121,
      "outputs": [
        {
          "output_type": "stream",
          "name": "stdout",
          "text": [
            "Enter the first number: 11\n",
            "Enter the second number: 13\n",
            "The result is:  0.8461538461538461\n"
          ]
        }
      ]
    },
    {
      "cell_type": "markdown",
      "source": [
        "👉 **Instructions:**\n",
        "\n",
        "1. Add a try-except block to handle any errors that may occur during runtime.\n",
        "2. In the try block, add the code that may raise an exception.\n",
        "3. In the except block, add the code to handle the exception."
      ],
      "metadata": {
        "id": "Eq2O0ac-Lsxp"
      }
    },
    {
      "cell_type": "markdown",
      "source": [
        "## **What's the time?** ⌚⌚\n",
        "\n",
        "Create a class Time which takes two inputs: hours and minutes to instantiate.\n",
        "\n",
        "* Construct a method DisplayTime() which displays the time in AM/PM formats.\n",
        "\n",
        " * For example if the input is 14 hours and 45 mins, then this method will print \"The time is 2:45 PM\".\n",
        " * If the inputted hours exceeds 23 then print the message \"The input hours should be less than 24\" and if the inputted minutes exceeds 59 then print the message \"The input minutes should be less than 60.\"\n",
        " * Also if the input is 12 hours 30 minutes, then the displayed time would be 12:30 PM\n",
        "\n",
        "* Construct a method DisplayRatio() which should display the ratio of minutes to hours.\n",
        " * For example, (8 hours and 16 mins) should display 2. Use try, except block to account for ZeroDivisionError."
      ],
      "metadata": {
        "id": "a5yhjDXAMTv6"
      }
    },
    {
      "cell_type": "code",
      "source": [
        "# Write your code here\n",
        "class Time:\n",
        "    def __init__(self, hours, minutes):\n",
        "        self.hours = hours\n",
        "        self.minutes = minutes\n",
        "\n",
        "    def DisplayTime(self):\n",
        "        if self.hours > 23:\n",
        "            print(\"The input hours should be less than 24\")\n",
        "            return\n",
        "        if self.minutes > 59:\n",
        "            print(\"The input minutes should be less than 60\")\n",
        "            return\n",
        "        if self.hours >= 12:\n",
        "            time_str = \"{}:{:02d} PM\".format(self.hours % 12, self.minutes)\n",
        "        else:\n",
        "            time_str = \"{}:{:02d} AM\".format(self.hours, self.minutes)\n",
        "        print(\"The time is\", time_str)\n",
        "\n",
        "    def DisplayRatio(self):\n",
        "        try:\n",
        "            ratio = self.minutes / self.hours\n",
        "            print(\"The ratio of minutes to hours is:\", ratio)\n",
        "        except ZeroDivisionError:\n",
        "            print(\"Cannot divide by zero.\")"
      ],
      "metadata": {
        "id": "_xHOnmYILyor"
      },
      "execution_count": 122,
      "outputs": []
    },
    {
      "cell_type": "markdown",
      "source": [
        "**🧪 Test Code:**"
      ],
      "metadata": {
        "id": "MS5Cs0nmM-0z"
      }
    },
    {
      "cell_type": "code",
      "source": [
        "# Check for few sample inputs of hours and mins\n",
        "hour_min_list = [(23,45), (34,50), (12,34), (14,67),(19,20), (2,15), (0, 10)]\n",
        "for hours, minutes in hour_min_list:\n",
        "    time = Time(hours, minutes)\n",
        "    time.DisplayTime()\n",
        "    time.DisplayRatio()"
      ],
      "metadata": {
        "id": "BuTerXSIMsfR",
        "colab": {
          "base_uri": "https://localhost:8080/"
        },
        "outputId": "738a53c5-4639-4a76-cf2a-b92229ae2bf0"
      },
      "execution_count": 124,
      "outputs": [
        {
          "output_type": "stream",
          "name": "stdout",
          "text": [
            "The time is 11:45 PM\n",
            "The ratio of minutes to hours is: 1.9565217391304348\n",
            "The input hours should be less than 24\n",
            "The ratio of minutes to hours is: 1.4705882352941178\n",
            "The time is 0:34 PM\n",
            "The ratio of minutes to hours is: 2.8333333333333335\n",
            "The input minutes should be less than 60\n",
            "The ratio of minutes to hours is: 4.785714285714286\n",
            "The time is 7:20 PM\n",
            "The ratio of minutes to hours is: 1.0526315789473684\n",
            "The time is 2:15 AM\n",
            "The ratio of minutes to hours is: 7.5\n",
            "The time is 0:10 AM\n",
            "Cannot divide by zero.\n"
          ]
        }
      ]
    },
    {
      "cell_type": "markdown",
      "source": [
        "👉 **Instructions:**\n",
        "\n",
        "1. Create a class Time which takes two inputs: hours and minutes.\n",
        "2. Instantiate the values using a function.\n",
        "3. Then, define two functions for displaying the time in the format explained in the question and for displaying the ratio of hours to minutes.\n",
        "4. Use try-except block for displaying the ratio to account for Zero Division Error."
      ],
      "metadata": {
        "id": "3xJSAlfHNA8z"
      }
    }
  ]
}